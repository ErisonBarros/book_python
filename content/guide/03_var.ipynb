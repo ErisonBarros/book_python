{
 "cells": [
  {
   "cell_type": "markdown",
   "metadata": {},
   "source": [
    "# Variáveis\n",
    "\n",
    "Variáveis são estruturas que permitem armazenar valores para leitura e uso posterior. Do ponto de vista computacional, elas funcionam como \"apelidos\", compreensíveis por humanos, para endereços de memória. Para facilitar a compreensão do conceito, podemos imaginar que a memória do computador é uma espécie de armário e as variáveis indicam as gavetas ou portas onde os valores estão armazenados.\n",
    "\n"
   ]
  },
  {
   "cell_type": "markdown",
   "metadata": {},
   "source": [
    "<figure>\n",
    "  <img src=\"../images/cabinet.svg\" alt=\"Armário com variáveis\"/>\n",
    "  <figcaption>Figura 6: Representação da memória como um armário e variáveis como endereços para as gavetas.</figcaption>\n",
    "</figure>"
   ]
  },
  {
   "cell_type": "markdown",
   "metadata": {},
   "source": [
    "## Nomes e Identificadores\n",
    "\n",
    "Como na maior parte das linguagens, identificadores (nomes de variáveis, funções, classes, etc) permitem letras minúsculas e maiúsculas, dígitos e traço baixo ou _underline_ (\\_). Identificadores não possuem limite de tamanho e diferenciam entre minúsculas e maiúsculas (_case sensitive_), ou seja _variavel_ é diferente de _Variavel_. Identificadores especiais costumam começar e terminar com duplos traços baixos, e.g. \\_\\_init\\_\\_. Seguem algumas convenções para nomeação de identificadores:\n",
    "\n",
    "| Identificador        | Convenção           | Exemplo  |\n",
    "|------------- |-------------| -----|\n",
    "| Módulos/pacotes      | caracteres minúsculos | _projetopython_ |\n",
    "| Métodos/funções/variáveis | minúsculos\\_separados\\_por\\_underlines      |    _variavel_\\__aleatoria_ |\n",
    "| Globais/constantes      | maiúsculos\\_separados\\_por\\_underlines     |   _CONSTANTE_ |\n",
    "| Classes | Iniciais Maiúsculas      |    NormalDistribution |"
   ]
  },
  {
   "cell_type": "markdown",
   "metadata": {},
   "source": [
    "## Atribuição de valores\n",
    "\n",
    "Em Python não há um comando exclusivo para declaração de variáveis e seus tipos. Na verdade, não são as variáveis que tem tipo, mas sim os valores armazenados nelas por meio do operador de atribuição (*=*). Por exemplo, podemos criar uma variável *idade* e armazenar nela o valor 30. Se essa for a primeira vez que o identificador idade aparecer neste trecho de código, a variável será criada nesse momento. Como este material está escrito usando Jupyter Notebooks, para avaliar o valor da variável, basta digitar seu nome embaixo da declaração (em outras situações, será necessário usar o comando **print**, mas ainda veremos isso).  "
   ]
  },
  {
   "cell_type": "code",
   "execution_count": 2,
   "metadata": {},
   "outputs": [
    {
     "data": {
      "text/plain": [
       "30"
      ]
     },
     "execution_count": 2,
     "metadata": {},
     "output_type": "execute_result"
    }
   ],
   "source": [
    "idade = 30\n",
    "\n",
    "idade"
   ]
  },
  {
   "cell_type": "markdown",
   "metadata": {},
   "source": [
    "O símbolo *=* não está testando igualdade no comando acima. A operação deve ser lida como:\n",
    "\n",
    "```\n",
    "A variável idade recebe o valor 30.\n",
    "```"
   ]
  },
  {
   "cell_type": "markdown",
   "metadata": {},
   "source": [
    "Para verificarmos o tipo do valor armazenado na variável, podemos fazer:"
   ]
  },
  {
   "cell_type": "code",
   "execution_count": 3,
   "metadata": {},
   "outputs": [
    {
     "data": {
      "text/plain": [
       "int"
      ]
     },
     "execution_count": 3,
     "metadata": {},
     "output_type": "execute_result"
    }
   ],
   "source": [
    "type(idade)"
   ]
  },
  {
   "cell_type": "markdown",
   "metadata": {},
   "source": [
    "Se mudarmos o valor armazenado para um texto, e.g. 'Estatística', veremos que não ocorrerá erro e a operação de verificação de tipo retornará o tipo correto."
   ]
  },
  {
   "cell_type": "code",
   "execution_count": 4,
   "metadata": {},
   "outputs": [
    {
     "data": {
      "text/plain": [
       "str"
      ]
     },
     "execution_count": 4,
     "metadata": {},
     "output_type": "execute_result"
    }
   ],
   "source": [
    "idade = 'Estatística'\n",
    "\n",
    "type(idade)"
   ]
  },
  {
   "cell_type": "markdown",
   "metadata": {},
   "source": [
    "O código à direita do operador de atribuição não precisa ser apenas um valor, podendo conter uma expressão complexa (incluindo várias operações e chamadas de funções), cujo resultado será armazenado na variável. Como um exemplo simples, vamos adicionar *1* ao valor armazenado na variável *idade* e armazenar o resultado na própria variável, substituindo o valor anterior."
   ]
  },
  {
   "cell_type": "code",
   "execution_count": 5,
   "metadata": {},
   "outputs": [
    {
     "data": {
      "text/plain": [
       "31"
      ]
     },
     "execution_count": 5,
     "metadata": {},
     "output_type": "execute_result"
    }
   ],
   "source": [
    "idade = 30\n",
    "idade = idade + 1\n",
    "\n",
    "idade"
   ]
  },
  {
   "cell_type": "code",
   "execution_count": null,
   "metadata": {},
   "outputs": [],
   "source": []
  }
 ],
 "metadata": {
  "kernelspec": {
   "display_name": "Python 3",
   "language": "python",
   "name": "python3"
  },
  "language_info": {
   "codemirror_mode": {
    "name": "ipython",
    "version": 3
   },
   "file_extension": ".py",
   "mimetype": "text/x-python",
   "name": "python",
   "nbconvert_exporter": "python",
   "pygments_lexer": "ipython3",
   "version": "3.6.5"
  }
 },
 "nbformat": 4,
 "nbformat_minor": 2
}
