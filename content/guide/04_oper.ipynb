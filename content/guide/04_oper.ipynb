{
 "cells": [
  {
   "cell_type": "markdown",
   "metadata": {},
   "source": [
    "# Operadores\n"
   ]
  },
  {
   "cell_type": "markdown",
   "metadata": {},
   "source": [
    "### Operadores lógicos\n",
    "\n",
    "Python oferece três operadores lógicos: **or** (ou), **and** (e) e **not** (não). Os primeiros dois operadores (**or** e **and**) recebem dois operandos e retornam um valor binário **True** (Verdadeiro) ou **False** (Falso). O terceiro operador (**not**) recebe apenas um operando e retorna o valor binário oposto. A tabela verdade abaixo apresenta os valores retornados pelos operadores para diferentes valores dos operandos.\n",
    "\n",
    "| x         | y         | **not** x   | x **or** y  | x **and** y |\n",
    "| --------- |:---------:| ---------:| ---------:| ---------:|\n",
    "| **True**  | **True**  | **False** | **True**  | **True**  |\n",
    "| **True**  | **False** | **False** | **True**  | **False** |\n",
    "| **False** | **True**  | **True**  | **True**  | **False** |\n",
    "| **False** | **False** | **True**  | **False** | **False** |\n",
    "\n",
    "O operador **or** só retorna **False** se os dois operandos forem falsos, portanto por uma questão de eficiência, Python apenas avalia o segundo operando, se o primeiro for **False**. Por outro lado, o operador **and** só retorna **True** se os dois operandos forem verdadeiros, então Python só avalia o segundo operando se o primeiro for **True**. Por isso, esses operadores são chamados de operadores de curto-circuito e essa característica pode ser usada para otimizar código, colocando operandos menos custosos no lado esquerdo desses operadores.\n"
   ]
  },
  {
   "cell_type": "markdown",
   "metadata": {},
   "source": [
    "### Operadores relacionais\n",
    "\n",
    "\n",
    "\n",
    "There are eight comparison operations in Python. They all have the same priority (which is higher than that of the Boolean operations). Comparisons can be chained arbitrarily; for example, x < y <= z is equivalent to x < y and y <= z, except that y is evaluated only once (but in both cases z is not evaluated at all when x < y is found to be false).\n",
    "\n",
    "This table summarizes the comparison operations:\n",
    "\n",
    "Operation\n",
    "\t\n",
    "\n",
    "Meaning\n",
    "\n",
    "<\n",
    "\t\n",
    "\n",
    "strictly less than\n",
    "\n",
    "<=\n",
    "\t\n",
    "\n",
    "less than or equal\n",
    "\n",
    ">\n",
    "\t\n",
    "\n",
    "strictly greater than\n",
    "\n",
    ">=\n",
    "\t\n",
    "\n",
    "greater than or equal\n",
    "\n",
    "==\n",
    "\t\n",
    "\n",
    "equal\n",
    "\n",
    "!=\n",
    "\t\n",
    "\n",
    "not equal\n",
    "\n",
    "is\n",
    "\t\n",
    "\n",
    "object identity\n",
    "\n",
    "is not\n",
    "\t\n",
    "\n",
    "negated object identity\n",
    "\n",
    "Objects of different types, except different numeric types, never compare equal. Furthermore, some types (for example, function objects) support only a degenerate notion of comparison where any two objects of that type are unequal. The <, <=, > and >= operators will raise a TypeError exception when comparing a complex number with another built-in numeric type, when the objects are of different types that cannot be compared, or in other cases where there is no defined ordering."
   ]
  },
  {
   "cell_type": "markdown",
   "metadata": {},
   "source": [
    "### Prioridade de operadores\n",
    "\n",
    "or                        Boolean OR\n",
    "and                       Boolean AND\n",
    "not x                     Boolean NOT\n",
    "in, not in                Membership tests\n",
    "is, is not                Identity tests\n",
    "<, <=, >, >=, <>, !=, ==  Comparisons\n",
    "|                         Bitwise OR\n",
    "^                         Bitwise XOR\n",
    "&                         Bitwise AND\n",
    "<<, >>                    Shifts\n",
    "+, -                      Addition and subtraction\n",
    "*, /, %                   Multiplication, division, remainder\n",
    "+x, -x                    Positive, negative\n",
    "~x                        Bitwise not\n",
    "**                        Exponentiation"
   ]
  },
  {
   "cell_type": "markdown",
   "metadata": {},
   "source": [
    "## Blocos e indentação\n",
    "\n",
    "A principal diferença de Python para outras linguagens, como R, C e Java, é a representação de blocos de código usando níveis de indentação, dispensando o uso de chaves para marcar o início e o fim dos blocos. Essa diferença pode ser vista nos blocos de código abaixo, representando a mesma função para calcular a média aritmética de dois valores. O primeiro código está escrito em R e o segundo contém exatamente a mesma função escrita em Python."
   ]
  },
  {
   "cell_type": "markdown",
   "metadata": {},
   "source": [
    "```R\n",
    "mean <- function(value1, value2) {\n",
    "  result <- (value1 + value2) / 2\n",
    "  return(result)\n",
    "}\n",
    "```"
   ]
  },
  {
   "cell_type": "code",
   "execution_count": 6,
   "metadata": {},
   "outputs": [],
   "source": [
    "def mean(value1, value2):\n",
    "    result = (value1 + value2) / 2\n",
    "    return result"
   ]
  },
  {
   "cell_type": "markdown",
   "metadata": {},
   "source": [
    "O uso de indentação para indicar estrutura tem vários benefícios, incluindo:\n",
    "\n",
    "   1. Reduz a necessidade de padrões de código extra: a indentação sempre será de 4 espaços e a IDE usada para escrever o código cuidará de manter essa consistência;\n",
    "   2. Códigos de diferentes fontes são forçados a seguir o mesmo estilo de indentação;\n",
    "   3. Reduz trabalho, pois não é necessário se preocupar com o padrão das chaves **e** da indentação;\n",
    "   4. Mantém um código mais limpo;\n",
    "   5. O código só executará se a indentação estiver correta, portanto, se o código parece correto, ele está correto;\n",
    "   6. Não há como confundir escopos de blocos de código aninhados."
   ]
  },
  {
   "cell_type": "code",
   "execution_count": null,
   "metadata": {},
   "outputs": [],
   "source": []
  }
 ],
 "metadata": {
  "kernelspec": {
   "display_name": "Python 3",
   "language": "python",
   "name": "python3"
  },
  "language_info": {
   "codemirror_mode": {
    "name": "ipython",
    "version": 3
   },
   "file_extension": ".py",
   "mimetype": "text/x-python",
   "name": "python",
   "nbconvert_exporter": "python",
   "pygments_lexer": "ipython3",
   "version": "3.6.5"
  }
 },
 "nbformat": 4,
 "nbformat_minor": 2
}
