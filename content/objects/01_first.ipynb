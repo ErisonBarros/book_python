{
 "cells": [
  {
   "cell_type": "markdown",
   "metadata": {},
   "source": [
    "# Objetos e Classes\n",
    "\n",
    "A programação orientada a objetos (OOP - do inglês *object oriented programming*) é um paradigma de programação baseado no conceito de objetos, que, na maior parte das linguagens OOP, são manifestações concretas de abstrações, chamadas classes. As classes representam tipos de dados e quais são seus atributos ou propriedades, de forma que cada objeto é uma instância de uma classe e pode ter valores diferentes para seus atributos. Além disso, as classes determinam que ações os seus objetos podem realizar, por meio de funções chamadas de métodos. Os métodos são frequentemente definidos de forma que os dados armazenados nos atributos do objeto associado ou de outro objeto são modificados. Programas OOP são então desenvolvidos por meio da criação e da interação de objetos. Alguns exemplos de classes incluem:\n",
    "\n",
    "   1. Carro:\n",
    "      * Atributos:\n",
    "         1. Marca\n",
    "         2. Modelo\n",
    "         3. Ano\n",
    "         4. Placa\n",
    "         5. Opcionais (lista)\n",
    "      * Métodos:\n",
    "         1. Ligar\n",
    "         2. Desligar\n",
    "         3. Acelerar\n",
    "         4. Frear\n",
    "         5. Ligar rádio\n",
    "   2. Distribuição Normal\n",
    "      * Atributos:\n",
    "         1. Média\n",
    "         2. Variância \n",
    "      * Métodos\n",
    "         1. Calcular fdp\n",
    "         2. Gerar amostra \n",
    "         3. Calcular função de distribuição acumulada\n",
    "   2. Regressão Linear\n",
    "      * Atributos:\n",
    "         1. Coeficientes\n",
    "         2. Intercepto \n",
    "      * Métodos\n",
    "         1. Ajustar a uma amostra\n",
    "         2. Estimar valores para nova amostra \n",
    "         3. Calcular $R^2$\n",
    "         4. Realizar testes de hipótese\n",
    "\n",
    "Note que cada classe representa um conceito, sua descrição (atributos) e suas ações associadas (métodos). Assim, um objeto é uma realização concreta de um conceito de classe, i.e. uma instância de classe. Por exemplo: $X \\sim N(3, 4)$ é um objeto que é uma instância de distribuição Normal com média *3* e variância *4*. Com esse objeto, podemos calcular o valor da fdp ou da função de distribuição acumulada para um dado valor (ou uma lista de valores) e gerar amostra(s) aleatórias.\n"
   ]
  },
  {
   "cell_type": "code",
   "execution_count": null,
   "metadata": {},
   "outputs": [],
   "source": []
  }
 ],
 "metadata": {
  "kernelspec": {
   "display_name": "Python 3",
   "language": "python",
   "name": "python3"
  },
  "language_info": {
   "codemirror_mode": {
    "name": "ipython",
    "version": 3
   },
   "file_extension": ".py",
   "mimetype": "text/x-python",
   "name": "python",
   "nbconvert_exporter": "python",
   "pygments_lexer": "ipython3",
   "version": "3.6.5"
  },
  "widgets": {
   "application/vnd.jupyter.widget-state+json": {
    "state": {},
    "version_major": 2,
    "version_minor": 0
   }
  }
 },
 "nbformat": 4,
 "nbformat_minor": 4
}
