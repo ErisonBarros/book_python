{
 "cells": [
  {
   "cell_type": "markdown",
   "metadata": {},
   "source": [
    "# NumPy\n",
    "\n",
    "NumPy é um pacote fundamental para computação científica em Python, sendo usado como base para praticamente todos os outros. Suas capacidades incluem uma poderosa classe *array*, que pode representar vetores e matrizes, sofisticadas funções para manipulação de *arrays*, ferramentas para integração de códigos em C/C++ e Fortran, além de funções de álgebra linear e de geração de números aleatórios. Os *arrays* de NumPy também podem ser usados para armazenar dados de tipos genéricos, permitindo fácil integração com diferentes tipos de bases e bancos de dados. A documentação completa para todas as versões de NumPy pode ser encontrada em [numpy.org/doc](https://numpy.org/doc).\n",
    "\n",
    "## A classe *array*\n",
    "\n",
    "A classe *array* é o principal componente de NumPy e representa uma lista homogênea multidimensional, na forma de uma tabela de elementos (normalmente números), todos do mesmo tipo, indexada por tuplas de inteiros positivos. Um dimensão de um *array* é chamada de eixo (*axis*). Abaixo, temos dois exemplos de *arrays* (note sua criação por meio de listas):"
   ]
  },
  {
   "cell_type": "code",
   "execution_count": 1,
   "metadata": {},
   "outputs": [
    {
     "name": "stdout",
     "output_type": "stream",
     "text": [
      "3 int64\n",
      "(2, 3) 2 float64\n",
      "[[1. 0. 1.]\n",
      " [0. 1. 2.]]\n"
     ]
    }
   ],
   "source": [
    "import numpy as np\n",
    "\n",
    "a = np.array([1, 2, 1])  # Uma dimensão, 3 elementos, tipo inteiro\n",
    "b = np.array([\n",
    "    [1., 0., 1.], \n",
    "    [0., 1., 2.]\n",
    "])  # Duas dimensões, a primeira com tamanho 2 e a segunda com tamanho 3, tipo ponto flutuante\n",
    "\n",
    "print(len(a), a.dtype)\n",
    "print(b.shape, len(b), b.dtype)\n",
    "print(b)"
   ]
  },
  {
   "cell_type": "markdown",
   "metadata": {},
   "source": [
    "A biblioteca padrão de Python também tem uma classe *array.array*, mas ela serve apenas pra casos unidimensionais e oferece menos funcionalidades. Os atributos mais importantes do *array* de numpy incluem:\n",
    "\n",
    "   * array.ndim: o número de eixos do *array*\n",
    "   * array.shape: as dimensões do *array* na forma de uma tupla indicando o tamanho de cada dimensão; matriz $n \\times m$ possui shape $(n, m)$\n",
    "   * array.size: o número total de elementos no *array*\n",
    "   * array.dtype: o tipo dos elementos do *array*\n",
    "\n",
    "### Criando *arrays*\n",
    "\n",
    "A criação de um *array* pode ser feita usando listas ou tuplas, com o tipo dos dados sendo deduzido através dos tpos dos elementos da sequência. Uma lista de listas resultará em um *array* bidimensional, uma lista de listas de listas dará um *array* tridimensional e assim por diante. É possível especificar o tipo do *array* na hora da criação:"
   ]
  },
  {
   "cell_type": "code",
   "execution_count": 2,
   "metadata": {},
   "outputs": [
    {
     "name": "stdout",
     "output_type": "stream",
     "text": [
      "[[1.+0.j 0.+0.j 1.+0.j]\n",
      " [0.+0.j 1.+0.j 2.+0.j]]\n"
     ]
    }
   ],
   "source": [
    "b = np.array(\n",
    "    [\n",
    "        [1., 0., 1.], \n",
    "        [0., 1., 2.]\n",
    "    ],\n",
    "    dtype=complex\n",
    ")\n",
    "print(b)"
   ]
  },
  {
   "cell_type": "markdown",
   "metadata": {},
   "source": [
    "Frequentemente é necessario criar *arrays* com um tamanho definido e valores iniciais que serão posteriormente modificados. Para isso, NumPy fornece diversas funções, incluindo a função *zeros*, que cria um *array* preenchido com zeros; *ones*, que cria um *array* preenchido com uns; *empty*, que cria um *array* cujo conteúdo inicial é aleatório e depende do estado da memória; e *eye*, que cria uma matriz identidade."
   ]
  },
  {
   "cell_type": "code",
   "execution_count": 3,
   "metadata": {},
   "outputs": [
    {
     "name": "stdout",
     "output_type": "stream",
     "text": [
      "[[0. 0. 0. 0.]\n",
      " [0. 0. 0. 0.]\n",
      " [0. 0. 0. 0.]]\n",
      "\n",
      "[[1. 1. 1. 1.]\n",
      " [1. 1. 1. 1.]\n",
      " [1. 1. 1. 1.]]\n",
      "\n",
      "[[1. 1. 1. 1.]\n",
      " [1. 1. 1. 1.]\n",
      " [1. 1. 1. 1.]]\n",
      "\n",
      "[[1 0 0]\n",
      " [0 1 0]\n",
      " [0 0 1]]\n"
     ]
    }
   ],
   "source": [
    "print(np.zeros((3, 4)))  # Note que as dimensões são passadas como uma tupla\n",
    "print()\n",
    "print(np.ones((3, 4)))\n",
    "print()\n",
    "print(np.empty((3, 4)))  # Saída pode variar\n",
    "print()\n",
    "print(np.eye(3, dtype=np.int32))  # Basta passar uma dimensão, pois a matriz será quadrada"
   ]
  },
  {
   "cell_type": "markdown",
   "metadata": {},
   "source": [
    "Para criar sequências de números, pode-se usar a função *arange*, que é análoga à função *range*, mas retorna *arrays* e aceita criar intervalos de pontos flutuantes."
   ]
  },
  {
   "cell_type": "code",
   "execution_count": 4,
   "metadata": {},
   "outputs": [
    {
     "name": "stdout",
     "output_type": "stream",
     "text": [
      "[ 5 10 15]\n",
      "\n",
      "[0.  0.4 0.8 1.2 1.6]\n"
     ]
    }
   ],
   "source": [
    "print(np.arange(5, 20, 5))\n",
    "print()\n",
    "print(np.arange(0, 2, 0.4))"
   ]
  },
  {
   "cell_type": "markdown",
   "metadata": {},
   "source": [
    "Devido a possíveis problemas de arredondamento, não é sempre possível saber quantos elementos serão gerados pela função *arange* ao receber pontos flutuantes como parâmetros. Nesses casos, é melhor usar a função *linspace*, que recebe como argumentos o início, o fim (inclusivo) e o número de valores desejados no intervalo."
   ]
  },
  {
   "cell_type": "code",
   "execution_count": 5,
   "metadata": {},
   "outputs": [
    {
     "name": "stdout",
     "output_type": "stream",
     "text": [
      "[0.    0.125 0.25  0.375 0.5   0.625 0.75  0.875 1.   ]\n"
     ]
    }
   ],
   "source": [
    "print(np.linspace(0, 1, 9))  # 9 números começando em 0 e terminando em 1"
   ]
  },
  {
   "cell_type": "markdown",
   "metadata": {},
   "source": [
    "A função *linspace* é útil para avaliar funções em muitos pontos."
   ]
  },
  {
   "cell_type": "code",
   "execution_count": 6,
   "metadata": {},
   "outputs": [
    {
     "data": {
      "text/plain": [
       "<Figure size 640x480 with 1 Axes>"
      ]
     },
     "metadata": {},
     "output_type": "display_data"
    }
   ],
   "source": [
    "import matplotlib.pyplot as plt\n",
    "\n",
    "x = np.linspace(0, 2 * np.pi, 100)\n",
    "f = np.sin(x)\n",
    "\n",
    "plt.plot(x, f)\n",
    "plt.show()"
   ]
  },
  {
   "cell_type": "markdown",
   "metadata": {},
   "source": [
    "### Operações básicas\n",
    "\n",
    "Operações aritméticas com *arrays* sempre são aplicadas elemento-a-elemento, criando um novo *array* como resultado:"
   ]
  },
  {
   "cell_type": "code",
   "execution_count": 7,
   "metadata": {},
   "outputs": [
    {
     "name": "stdout",
     "output_type": "stream",
     "text": [
      "[10 20 30 40]\n",
      "[0 1 2 3]\n",
      "\n",
      "[10 19 28 37]\n",
      "\n",
      "[0 1 4 9]\n",
      "\n",
      "[ True  True False False]\n",
      "\n",
      "[  0  20  60 120]\n"
     ]
    }
   ],
   "source": [
    "a = np.array([10, 20, 30, 40])\n",
    "print(a)\n",
    "b = np.arange(4)\n",
    "print(b)\n",
    "print()\n",
    "\n",
    "c = a - b\n",
    "print(c)\n",
    "print()\n",
    "\n",
    "print(b ** 2)\n",
    "print()\n",
    "\n",
    "print(a < 25)\n",
    "print()\n",
    "\n",
    "print(a * b)"
   ]
  },
  {
   "cell_type": "markdown",
   "metadata": {},
   "source": [
    "O operador '\\*' multiplica os *arrays* através dos elementos. Para realizar a multiplicação de matrizes, pode-se usar o operador '@', a função *dot* do NumPy, ou o método *dot* do *array*:"
   ]
  },
  {
   "cell_type": "code",
   "execution_count": 8,
   "metadata": {},
   "outputs": [
    {
     "name": "stdout",
     "output_type": "stream",
     "text": [
      "[[2 2]\n",
      " [0 2]]\n",
      "[[2 2]\n",
      " [0 2]]\n",
      "[[2 2]\n",
      " [0 2]]\n"
     ]
    }
   ],
   "source": [
    "A = np.array(\n",
    "    [\n",
    "        [1, 1],\n",
    "        [0, 1]\n",
    "    ]\n",
    ")\n",
    "\n",
    "B = np.array(\n",
    "    [\n",
    "        [2, 0],\n",
    "        [0, 2]\n",
    "    ]\n",
    ")\n",
    "\n",
    "print(A @ B)\n",
    "print(np.dot(A, B))\n",
    "print(A.dot(B))"
   ]
  },
  {
   "cell_type": "markdown",
   "metadata": {},
   "source": [
    "Algumas operações, como as de atribuição aritmética \"+=\" e \"\\*=\", modificam o *array* diretamente, ao invés de criar outro com o resultado."
   ]
  },
  {
   "cell_type": "code",
   "execution_count": 9,
   "metadata": {},
   "outputs": [
    {
     "name": "stdout",
     "output_type": "stream",
     "text": [
      "[[2 2]\n",
      " [1 2]]\n"
     ]
    }
   ],
   "source": [
    "A = np.array(\n",
    "    [\n",
    "        [1, 1],\n",
    "        [0, 1]\n",
    "    ]\n",
    ")\n",
    "\n",
    "A += 1\n",
    "\n",
    "print(A)"
   ]
  },
  {
   "cell_type": "markdown",
   "metadata": {},
   "source": [
    "Operações com *arrays* de tipos diferentes resultam em um *array* do tipo mais geral ou preciso (*upcasting*). Exemplo:"
   ]
  },
  {
   "cell_type": "code",
   "execution_count": 10,
   "metadata": {},
   "outputs": [
    {
     "name": "stdout",
     "output_type": "stream",
     "text": [
      "float64\n"
     ]
    }
   ],
   "source": [
    "a = np.ones(3, dtype=int)\n",
    "b = np.ones(3, dtype=float)\n",
    "\n",
    "print((a + b).dtype)"
   ]
  },
  {
   "cell_type": "markdown",
   "metadata": {},
   "source": [
    "Muitas operações são computadas como métodos da classe *array*, por exemplo a soma de todos os elementos, a média ou o desvio-padrão:"
   ]
  },
  {
   "cell_type": "code",
   "execution_count": 11,
   "metadata": {},
   "outputs": [
    {
     "name": "stdout",
     "output_type": "stream",
     "text": [
      "[[0.23212101 0.91462662 0.91540541]\n",
      " [0.57452843 0.95238774 0.42597797]\n",
      " [0.1072103  0.53177664 0.36938877]\n",
      " [0.18792794 0.46956383 0.92813154]\n",
      " [0.88990463 0.62508447 0.03784651]]\n",
      "Soma: 8.161881792579557, Média: 0.5441254528386371, Desvio-padrão: 0.30961707078112033\n"
     ]
    }
   ],
   "source": [
    "a = np.random.random((5, 3))\n",
    "print(a)\n",
    "print(\n",
    "    'Soma: {}, Média: {}, Desvio-padrão: {}'.format(\n",
    "        a.sum(), a.mean(), a.std()\n",
    "    )\n",
    ")"
   ]
  },
  {
   "cell_type": "markdown",
   "metadata": {},
   "source": [
    "Por padrão, essas operações são computadas sobre todos os elementos do *array*, independente das suas dimensões. No entanto, é possível especificar a dimensão desejada, usando o parâmetro *axis*, como mostra o código abaixo:"
   ]
  },
  {
   "cell_type": "code",
   "execution_count": 12,
   "metadata": {},
   "outputs": [
    {
     "name": "stdout",
     "output_type": "stream",
     "text": [
      "[1.99169231 3.49343929 2.67675019]\n",
      "[0.68738435 0.65096471 0.33612524 0.5285411  0.51761187]\n",
      "[[0.23212101 0.91462662 0.91540541]\n",
      " [0.80664944 1.86701436 1.34138337]\n",
      " [0.91385974 2.398791   1.71077215]\n",
      " [1.10178768 2.86835482 2.63890369]\n",
      " [1.99169231 3.49343929 2.67675019]]\n"
     ]
    }
   ],
   "source": [
    "print(a.sum(axis=0)) # soma de cada coluna\n",
    "print(a.mean(axis=1))  # média de cada linha  \n",
    "print(a.cumsum(axis=0))  # soma acumulada de cada coluna"
   ]
  },
  {
   "cell_type": "markdown",
   "metadata": {},
   "source": [
    "### Indexando e iterando sobre elementos\n",
    "\n",
    "*Arrays* unidimensionais podem ser indexados, fatiados e iterados exatamente como listas e outras coleções."
   ]
  },
  {
   "cell_type": "code",
   "execution_count": 13,
   "metadata": {},
   "outputs": [
    {
     "name": "stdout",
     "output_type": "stream",
     "text": [
      "[ 0  1  4  9 16 25 36 49]\n",
      "\n",
      "4\n",
      "\n",
      "[ 4  9 16]\n",
      "\n",
      "[-1000     1 -1000     9    16    25    36    49]\n",
      "\n",
      "[   49    36    25    16     9 -1000     1 -1000]\n",
      "\n",
      "-2000\n",
      "2\n",
      "-2000\n",
      "18\n",
      "32\n",
      "50\n",
      "72\n",
      "98\n"
     ]
    }
   ],
   "source": [
    "a = np.arange(8) ** 2\n",
    "print(a)\n",
    "print()\n",
    "\n",
    "print(a[2])\n",
    "print()\n",
    "\n",
    "print(a[2:5])\n",
    "print()\n",
    "\n",
    "a[:4:2] = -1000\n",
    "print(a)\n",
    "print()\n",
    "\n",
    "print(a[ : :-1])\n",
    "print()\n",
    "\n",
    "for i in a:\n",
    "    print(i * 2)"
   ]
  },
  {
   "cell_type": "markdown",
   "metadata": {},
   "source": [
    "*Arrays* multidimensionais podem receber um índice ou fatia por eixo, informados em uma tupla. Por exemplo:"
   ]
  },
  {
   "cell_type": "code",
   "execution_count": 50,
   "metadata": {},
   "outputs": [
    {
     "name": "stdout",
     "output_type": "stream",
     "text": [
      "[[0.07422871 0.98991576 0.75504541 0.04575127]\n",
      " [0.37423932 0.20386125 0.78009502 0.89139556]\n",
      " [0.43186859 0.65060262 0.55278012 0.61055091]\n",
      " [0.85672426 0.85429927 0.11882156 0.0044845 ]\n",
      " [0.38750379 0.85236982 0.13323144 0.76114493]]\n",
      "\n",
      "0.610550913146224\n",
      "\n",
      "[0.98991576 0.20386125 0.65060262 0.85429927 0.85236982]\n",
      "\n",
      "[0.98991576 0.20386125 0.65060262 0.85429927]\n",
      "\n",
      "[[0.37423932 0.20386125 0.78009502 0.89139556]\n",
      " [0.43186859 0.65060262 0.55278012 0.61055091]]\n"
     ]
    }
   ],
   "source": [
    "b = np.random.random((5, 4))\n",
    "print(b)\n",
    "print()\n",
    "\n",
    "print(b[2, 3])  # Elemento na terceira linha e quarta coluna\n",
    "print()\n",
    "\n",
    "print(b[:, 1])  # A segunda coluna inteira\n",
    "print()\n",
    "\n",
    "print(b[:4, 1])  # Do primeiro ao quarto elemento da segunda coluna      \n",
    "print()\n",
    "\n",
    "print(b[1:3, :])  # Todas as colunas da segunda à terceira linha              "
   ]
  },
  {
   "cell_type": "markdown",
   "metadata": {},
   "source": [
    "Quando os índices forem fornecidos em uma tupla menor do que o número de eixos, os índices que não forem fornecidos são considerados fatias completas, i.e. \":\". Os índices faltantes também podem ser representados por reticências. Exemplo:"
   ]
  },
  {
   "cell_type": "code",
   "execution_count": 51,
   "metadata": {},
   "outputs": [
    {
     "name": "stdout",
     "output_type": "stream",
     "text": [
      "[0.38750379 0.85236982 0.13323144 0.76114493]\n",
      "[0.38750379 0.85236982 0.13323144 0.76114493]\n",
      "[0.38750379 0.85236982 0.13323144 0.76114493]\n"
     ]
    }
   ],
   "source": [
    "print(b[-1])\n",
    "print(b[-1, :])\n",
    "print(b[-1, ...])"
   ]
  },
  {
   "cell_type": "markdown",
   "metadata": {},
   "source": [
    "NumPy oferece mais formas de indexar os seus *arrays*, usando listas ou *arrays* de inteiros ou booleanos. Quando o *array* *b* é multidimensional, a indexação usando uma única lista de índices se refere à primeira dimensão de *b*."
   ]
  },
  {
   "cell_type": "code",
   "execution_count": 52,
   "metadata": {},
   "outputs": [
    {
     "name": "stdout",
     "output_type": "stream",
     "text": [
      "[[0.07422871 0.98991576 0.75504541 0.04575127]\n",
      " [0.37423932 0.20386125 0.78009502 0.89139556]\n",
      " [0.43186859 0.65060262 0.55278012 0.61055091]\n",
      " [0.85672426 0.85429927 0.11882156 0.0044845 ]\n",
      " [0.38750379 0.85236982 0.13323144 0.76114493]]\n",
      "\n",
      "[[0.37423932 0.20386125 0.78009502 0.89139556]\n",
      " [0.38750379 0.85236982 0.13323144 0.76114493]]\n",
      "\n",
      "[[0.98991576 0.75504541]\n",
      " [0.20386125 0.78009502]\n",
      " [0.65060262 0.55278012]\n",
      " [0.85429927 0.11882156]\n",
      " [0.85236982 0.13323144]]\n",
      "\n",
      "[0.20386125 0.13323144]\n",
      "\n",
      "[[0.20386125 0.78009502]\n",
      " [0.85236982 0.13323144]]\n",
      "\n",
      "[[0.20386125 0.78009502]\n",
      " [0.85236982 0.13323144]]\n",
      "\n",
      "[[0.07422871 0.98991576 0.75504541 0.04575127]\n",
      " [0.37423932 0.         0.         0.89139556]\n",
      " [0.43186859 0.65060262 0.55278012 0.61055091]\n",
      " [0.85672426 0.85429927 0.11882156 0.0044845 ]\n",
      " [0.38750379 0.         0.         0.76114493]]\n"
     ]
    }
   ],
   "source": [
    "print(b)\n",
    "print()\n",
    "\n",
    "print(b[[1, 4]])  # Segunda e quinta linhas da matriz b, equivale a b[[1, 4], :]\n",
    "print()\n",
    "\n",
    "print(b[:, [1, 2]])  # Segunda e terceira colunas da matriz b\n",
    "print()\n",
    "\n",
    "print(b[[1, 4], [1, 2]])  # Indexação pareada, equivale a [b[1,1], b[4, 2]]\n",
    "print()\n",
    "\n",
    "i = [\n",
    "    [1, 1],\n",
    "    [4, 4]\n",
    "]\n",
    "j = [\n",
    "    [1, 2],\n",
    "    [1, 2]\n",
    "]\n",
    "\n",
    "print(b[i, j])  # Indexação pareada, segunda e terceira colunas da segunda e quinta linhas\n",
    "print()\n",
    "\n",
    "print(b[\n",
    "    [[1], [4]],  # Equivale a b[i, j], note que o array\n",
    "    [1, 2]       # de índices do primeiro eixo é bidimensional\n",
    "])\n",
    "print()\n",
    "\n",
    "b[i, j] = 0  # As posições indexadas podem receber valores\n",
    "print(b)"
   ]
  },
  {
   "cell_type": "markdown",
   "metadata": {},
   "source": [
    "Para indexar *arrays* usando *arrays* ou listas de booleanos, pode-se usar um *array* com exatamente a mesma quantidade de elementos que o *array* indexado. Isso pode ser muito útil para fazer atribuições. Exemplo:"
   ]
  },
  {
   "cell_type": "code",
   "execution_count": 55,
   "metadata": {},
   "outputs": [
    {
     "name": "stdout",
     "output_type": "stream",
     "text": [
      "[[ True False False  True]\n",
      " [ True  True  True False]\n",
      " [ True False False False]\n",
      " [False False  True  True]\n",
      " [ True  True  True False]]\n",
      "\n",
      "[0. 0. 0. 0. 0. 0. 0. 0. 0. 0. 0.]\n",
      "\n",
      "[[0.         0.98991576 0.75504541 0.        ]\n",
      " [0.         0.         0.         0.89139556]\n",
      " [0.         0.65060262 0.55278012 0.61055091]\n",
      " [0.85672426 0.85429927 0.         0.        ]\n",
      " [0.         0.         0.         0.76114493]]\n"
     ]
    }
   ],
   "source": [
    "a = b < 0.5\n",
    "\n",
    "print(a)\n",
    "print()\n",
    "\n",
    "print(b[a])  # array unidimensional com os elementos selecionados\n",
    "print()\n",
    "\n",
    "b[a] = 0\n",
    "print(b)"
   ]
  },
  {
   "cell_type": "markdown",
   "metadata": {},
   "source": [
    "Também é possível indexar cada dimensão usando *arrays* unidimensionais de booleanos com o mesmo tamanho da dimensão indexada:"
   ]
  },
  {
   "cell_type": "code",
   "execution_count": 67,
   "metadata": {},
   "outputs": [
    {
     "name": "stdout",
     "output_type": "stream",
     "text": [
      "[[0.         0.98991576 0.75504541 0.        ]\n",
      " [0.         0.65060262 0.55278012 0.61055091]]\n",
      "\n",
      "[[0.         0.98991576]\n",
      " [0.         0.        ]\n",
      " [0.         0.65060262]\n",
      " [0.85672426 0.85429927]\n",
      " [0.         0.        ]]\n",
      "\n",
      "[0.         0.65060262]\n",
      "\n"
     ]
    }
   ],
   "source": [
    "b1 = np.array([True, False, True, False, False])\n",
    "b2 = np.array([True, True, False, False])\n",
    "\n",
    "print(b[b1])  # Equivale a b[b1, :]\n",
    "print()\n",
    "\n",
    "print(b[:, b2])\n",
    "print()\n",
    "\n",
    "print(b[b1,b2])\n",
    "print()"
   ]
  },
  {
   "cell_type": "markdown",
   "metadata": {},
   "source": [
    "Iterações sobre *arrays* multidimensionais são feitas ao longo do primeiro eixo:"
   ]
  },
  {
   "cell_type": "code",
   "execution_count": 16,
   "metadata": {},
   "outputs": [
    {
     "name": "stdout",
     "output_type": "stream",
     "text": [
      "[0.70968361 0.47216499 0.62903357 0.23256923]\n",
      "[0.15019964 0.99036884 0.32071652 0.39608505]\n",
      "[0.0282208  0.86358171 0.84650532 0.49235815]\n",
      "[0.40869514 0.32478269 0.97010913 0.90962194]\n",
      "[0.93522107 0.31236502 0.47480294 0.93315187]\n"
     ]
    }
   ],
   "source": [
    "for row in b:\n",
    "    print(row)"
   ]
  },
  {
   "cell_type": "markdown",
   "metadata": {},
   "source": [
    "### Redimensionando *arrays*\n",
    "\n",
    "Como vimos acima, o tamanho das dimensões do *array* pode ser obtido por meio do atributo *shape*:"
   ]
  },
  {
   "cell_type": "code",
   "execution_count": 71,
   "metadata": {},
   "outputs": [
    {
     "name": "stdout",
     "output_type": "stream",
     "text": [
      "[ 0  1  2  3  4  5  6  7  8  9 10 11]\n",
      "(12,)\n"
     ]
    }
   ],
   "source": [
    "a = np.arange(12)\n",
    "print(a)\n",
    "print(a.shape)"
   ]
  },
  {
   "cell_type": "markdown",
   "metadata": {},
   "source": [
    "No entanto, a forma do *array* não é fixa e pode ser modificada de diversas formas, retornando um novo *array* com os mesmos elementos do *array* original, mas reposicionados para se adequar à nova forma."
   ]
  },
  {
   "cell_type": "code",
   "execution_count": 75,
   "metadata": {},
   "outputs": [
    {
     "name": "stdout",
     "output_type": "stream",
     "text": [
      "[[ 0  1  2]\n",
      " [ 3  4  5]\n",
      " [ 6  7  8]\n",
      " [ 9 10 11]]\n",
      "\n",
      "[ 0  1  2  3  4  5  6  7  8  9 10 11]\n",
      "\n",
      "[[ 0  3  6  9]\n",
      " [ 1  4  7 10]\n",
      " [ 2  5  8 11]]\n",
      "\n"
     ]
    }
   ],
   "source": [
    "c = a.reshape(4, 3)\n",
    "print(c)\n",
    "print()\n",
    "\n",
    "print(c.ravel())  # retorna o array \"achatado\" \n",
    "print()\n",
    "\n",
    "print(c.T)  # retorna o array transposto\n",
    "print()"
   ]
  },
  {
   "cell_type": "markdown",
   "metadata": {},
   "source": [
    "A função *reshape* retorna um novo *array*. Para modificar o próprio *array*, pode-se usar a função *resize*:"
   ]
  },
  {
   "cell_type": "code",
   "execution_count": 77,
   "metadata": {},
   "outputs": [
    {
     "name": "stdout",
     "output_type": "stream",
     "text": [
      "[[ 0  1  2]\n",
      " [ 3  4  5]\n",
      " [ 6  7  8]\n",
      " [ 9 10 11]]\n"
     ]
    }
   ],
   "source": [
    "a.resize(4, 3)\n",
    "print(a)"
   ]
  },
  {
   "cell_type": "markdown",
   "metadata": {},
   "source": [
    "Se alguma dimensão receber o valor *-1* para uma operação de redimensionamento, o seu novo tamanho será automaticamente calculado. Por exemplo, se quisermos que *a* tenha *2* linhas e o número necessário de colunas, podemos fazer:"
   ]
  },
  {
   "cell_type": "code",
   "execution_count": 78,
   "metadata": {},
   "outputs": [
    {
     "data": {
      "text/plain": [
       "array([[ 0,  1,  2,  3,  4,  5],\n",
       "       [ 6,  7,  8,  9, 10, 11]])"
      ]
     },
     "execution_count": 78,
     "metadata": {},
     "output_type": "execute_result"
    }
   ],
   "source": [
    "a.reshape(2, -1)"
   ]
  },
  {
   "cell_type": "markdown",
   "metadata": {},
   "source": [
    "Se tentarmos tranpor um *array* unidimensional usando o atributo *T*, ele continuará sendo unidimensional. Portanto, para realizar a transposição, podemos usar o método *reshape*, com *-1* no número de linhas, gerando um vetor coluna com o número necessário de linhas:"
   ]
  },
  {
   "cell_type": "code",
   "execution_count": 81,
   "metadata": {},
   "outputs": [
    {
     "name": "stdout",
     "output_type": "stream",
     "text": [
      "[ 0  1  2  3  4  5  6  7  8  9 10 11]\n",
      "[ 0  1  2  3  4  5  6  7  8  9 10 11]\n",
      "[[ 0]\n",
      " [ 1]\n",
      " [ 2]\n",
      " [ 3]\n",
      " [ 4]\n",
      " [ 5]\n",
      " [ 6]\n",
      " [ 7]\n",
      " [ 8]\n",
      " [ 9]\n",
      " [10]\n",
      " [11]]\n"
     ]
    }
   ],
   "source": [
    "a = np.arange(12)\n",
    "print(a)\n",
    "print(a.T)\n",
    "print(a.reshape(-1, 1))"
   ]
  },
  {
   "cell_type": "markdown",
   "metadata": {},
   "source": [
    "Outra forma de transpor um *array* unidimensional para obter um vetor coluna é usando o atalho de NumPy para criar novos eixos:"
   ]
  },
  {
   "cell_type": "code",
   "execution_count": 83,
   "metadata": {},
   "outputs": [
    {
     "data": {
      "text/plain": [
       "array([[ 0],\n",
       "       [ 1],\n",
       "       [ 2],\n",
       "       [ 3],\n",
       "       [ 4],\n",
       "       [ 5],\n",
       "       [ 6],\n",
       "       [ 7],\n",
       "       [ 8],\n",
       "       [ 9],\n",
       "       [10],\n",
       "       [11]])"
      ]
     },
     "execution_count": 83,
     "metadata": {},
     "output_type": "execute_result"
    }
   ],
   "source": [
    "a[:, np.newaxis]"
   ]
  },
  {
   "cell_type": "markdown",
   "metadata": {},
   "source": [
    "### Concatenando *arrays*\n",
    "\n",
    "As funções *vstack* e *hstack* permitem concatenar dois ou mais *arrays* verticalmente e horizontalmente, respectivamente:"
   ]
  },
  {
   "cell_type": "code",
   "execution_count": 87,
   "metadata": {},
   "outputs": [
    {
     "name": "stdout",
     "output_type": "stream",
     "text": [
      "[[0.         1.        ]\n",
      " [2.         3.        ]\n",
      " [4.         5.        ]\n",
      " [0.10739744 0.52628882]\n",
      " [0.69224407 0.01864132]\n",
      " [0.08691252 0.48103772]]\n",
      "[[0.         1.         0.10739744 0.52628882]\n",
      " [2.         3.         0.69224407 0.01864132]\n",
      " [4.         5.         0.08691252 0.48103772]]\n"
     ]
    }
   ],
   "source": [
    "a = np.arange(6).reshape(3, 2)\n",
    "b = np.random.random((3, 2))\n",
    "\n",
    "print(np.vstack((a, b)))\n",
    "print()\n",
    "\n",
    "print(np.hstack((a, b)))"
   ]
  },
  {
   "cell_type": "markdown",
   "metadata": {},
   "source": [
    "A função *column_stack* concatena dois ou mais *arrays* unidimensionais na forma de colunas em um array 2D resultante:"
   ]
  },
  {
   "cell_type": "code",
   "execution_count": 89,
   "metadata": {},
   "outputs": [
    {
     "name": "stdout",
     "output_type": "stream",
     "text": [
      "[[0.         0.54017077]\n",
      " [1.         0.79932955]\n",
      " [2.         0.19442395]]\n",
      "\n",
      "[0.         1.         2.         0.54017077 0.79932955 0.19442395]\n"
     ]
    }
   ],
   "source": [
    "a = np.arange(3)\n",
    "b = np.random.random(3)\n",
    "\n",
    "print(np.column_stack((a, b)))\n",
    "print()\n",
    "\n",
    "print(np.hstack((a, b)))  # resultado diferente"
   ]
  },
  {
   "cell_type": "markdown",
   "metadata": {},
   "source": [
    "Essas funções de concatenação são todas casos especiais de uso mais comum da função *concatenate*, que permite definir o eixo sobre o qual ocorrerá a concatenação."
   ]
  },
  {
   "cell_type": "code",
   "execution_count": null,
   "metadata": {},
   "outputs": [],
   "source": []
  }
 ],
 "metadata": {
  "kernelspec": {
   "display_name": "Python 3",
   "language": "python",
   "name": "python3"
  },
  "language_info": {
   "codemirror_mode": {
    "name": "ipython",
    "version": 3
   },
   "file_extension": ".py",
   "mimetype": "text/x-python",
   "name": "python",
   "nbconvert_exporter": "python",
   "pygments_lexer": "ipython3",
   "version": "3.6.5"
  }
 },
 "nbformat": 4,
 "nbformat_minor": 2
}
