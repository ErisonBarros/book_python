{
 "cells": [
  {
   "cell_type": "markdown",
   "metadata": {},
   "source": [
    "# OOP em Python\n",
    "\n",
    "Todos os valores são objetos em Python, dos mais básicos, como inteiros e booleanos, aos tipos mais complexos definidos por usuários, incluindo as funções (objetos do tipo função). Como vimos anteriormente, objetos são instâncias de classes, então para criar objetos, é preciso antes definir as classes."
   ]
  },
  {
   "cell_type": "code",
   "execution_count": 3,
   "metadata": {},
   "outputs": [
    {
     "name": "stdout",
     "output_type": "stream",
     "text": [
      "10 5\n"
     ]
    }
   ],
   "source": [
    "class MyClass:\n",
    "    i = 10\n",
    "    \n",
    "a = MyClass()\n",
    "b = MyClass()\n",
    "b.i = 5\n",
    "\n",
    "print(a.i, b.i)"
   ]
  },
  {
   "cell_type": "code",
   "execution_count": null,
   "metadata": {},
   "outputs": [],
   "source": []
  }
 ],
 "metadata": {
  "kernelspec": {
   "display_name": "Python 3",
   "language": "python",
   "name": "python3"
  },
  "language_info": {
   "codemirror_mode": {
    "name": "ipython",
    "version": 3
   },
   "file_extension": ".py",
   "mimetype": "text/x-python",
   "name": "python",
   "nbconvert_exporter": "python",
   "pygments_lexer": "ipython3",
   "version": "3.6.5"
  }
 },
 "nbformat": 4,
 "nbformat_minor": 2
}
