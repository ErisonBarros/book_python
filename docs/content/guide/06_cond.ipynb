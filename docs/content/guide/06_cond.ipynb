{
 "cells": [
  {
   "cell_type": "markdown",
   "metadata": {},
   "source": [
    "# Condições e Laços"
   ]
  },
  {
   "cell_type": "markdown",
   "metadata": {},
   "source": [
    "Nesta Seção, veremos os primeiros tipos de blocos de códigos que podem ser definidos em Python. Blocos são regiões de código que realizam uma tarefa ou um conjunto de tarefas relacionadas. Essas regiões podem definir operações condicionais, iterações (operações repetidas), funções e tipos de dados. Blocos podem ser aninhados, ou seja, é possível definir blocos dentro de blocos, o que equivale à definição de sub-tarefas. Na maior parte das linguagens, os blocos de código são delimitados por algum marcador, como um par de chaves {} ou marcadores de início (*begin*) e fim (*end*), mas Python adota uma abordagem diferente."
   ]
  },
  {
   "cell_type": "markdown",
   "metadata": {},
   "source": [
    "## Blocos e indentação\n",
    "\n",
    "A principal diferença de Python para outras linguagens, como R, C e Java, é a representação de blocos de código usando níveis de indentação, dispensando o uso de chaves para marcar o início e o fim dos blocos. Essa diferença pode ser vista nos blocos de código abaixo, representando a mesma função para calcular a média aritmética de dois valores. O primeiro código está escrito em R e o segundo contém exatamente a mesma função escrita em Python."
   ]
  },
  {
   "cell_type": "markdown",
   "metadata": {},
   "source": [
    "```R\n",
    "mean <- function(value1, value2) {\n",
    "  result <- (value1 + value2) / 2\n",
    "  return(result)\n",
    "}\n",
    "```"
   ]
  },
  {
   "cell_type": "code",
   "execution_count": 2,
   "metadata": {},
   "outputs": [],
   "source": [
    "def mean(value1, value2):\n",
    "    result = (value1 + value2) / 2\n",
    "    return result"
   ]
  },
  {
   "cell_type": "markdown",
   "metadata": {},
   "source": [
    "O uso de indentação para indicar estrutura tem vários benefícios, incluindo:\n",
    "\n",
    "   1. Reduz a necessidade de padrões de código extra: a indentação sempre será de 4 espaços e a IDE usada para escrever o código cuidará de manter essa consistência;\n",
    "   2. Códigos de diferentes fontes são forçados a seguir o mesmo estilo de indentação;\n",
    "   3. Reduz trabalho, pois não é necessário se preocupar com o padrão das chaves **e** da indentação;\n",
    "   4. Mantém um código mais limpo;\n",
    "   5. O código só executará se a indentação estiver correta, portanto, se o código parece correto, ele está correto;\n",
    "   6. Não há como confundir escopos de blocos de código aninhados."
   ]
  },
  {
   "cell_type": "markdown",
   "metadata": {},
   "source": [
    "## Condições\n",
    "\n",
    "Os operadores condicionais **if** (se), **elif** (senão se) e **else** (senão) são usados para definir blocos de código que serão executados apenas se certas condições forem satisfeitas, sendo, portanto, blocos de **controle de fluxo**, pois alteram o fluxo de execução do código, como mostra o fluxograma da Figura 7."
   ]
  },
  {
   "cell_type": "markdown",
   "metadata": {},
   "source": [
    "<figure>\n",
    "  <img width=\"520\" height=\"436\" src=\"../images/flow-if.svg\" alt=\"Fluxograma com estrutura condicional\"/>\n",
    "  <figcaption>Figura 7: Fluxograma com estrutura condicional.</figcaption>\n",
    "</figure>"
   ]
  },
  {
   "cell_type": "markdown",
   "metadata": {},
   "source": [
    "O fluxograma acima simula uma entrevista de emprego em que a única pergunta é se a pessoa que se candidatou à vaga entende de Python ou não. Em caso afirmativo, a pessoa é imediatamente contratada. Caso contrário, continuará desempregada. Esse tipo de situação pode ser lido como \"**se** (**if**) a pessoa sabe Python, então está contratada; **senão** (**else**), está desempregada. Isso pode ser escrito em Python da seguinte forma:"
   ]
  },
  {
   "cell_type": "code",
   "execution_count": 4,
   "metadata": {},
   "outputs": [
    {
     "data": {
      "text/plain": [
       "'hired'"
      ]
     },
     "execution_count": 4,
     "metadata": {},
     "output_type": "execute_result"
    }
   ],
   "source": [
    "knows_python = True\n",
    "\n",
    "if knows_python == True:\n",
    "    situation = 'hired'\n",
    "else:\n",
    "    situation = 'unemployed'\n",
    "\n",
    "situation"
   ]
  },
  {
   "cell_type": "markdown",
   "metadata": {},
   "source": [
    "Note que a variável *situation* não foi definida antes do bloco condicional. Isso não resulta em erro porque só há dois fluxos possíveis para o código, i.e. *knows_python ==* **True** ou *knows_python ==* **False**. Caso uma variável não seja definida em todos os fluxos possíveis, é possível que ocorra um erro. Por exemplo, suponha que, caso seja contratada, a pessoa receberá um salário de R$10000,00. Se a pessoa não souber Python e tentarmos acessar o salário, causaremos um erro."
   ]
  },
  {
   "cell_type": "code",
   "execution_count": 5,
   "metadata": {},
   "outputs": [
    {
     "ename": "NameError",
     "evalue": "name 'salary' is not defined",
     "output_type": "error",
     "traceback": [
      "\u001b[0;31m-----------------------------------------------\u001b[0m",
      "\u001b[0;31mNameError\u001b[0m     Traceback (most recent call last)",
      "\u001b[0;32m<ipython-input-5-a57fd5684b67>\u001b[0m in \u001b[0;36m<module>\u001b[0;34m()\u001b[0m\n\u001b[1;32m      7\u001b[0m     \u001b[0msituation\u001b[0m \u001b[0;34m=\u001b[0m \u001b[0;34m'unemployed'\u001b[0m\u001b[0;34m\u001b[0m\u001b[0m\n\u001b[1;32m      8\u001b[0m \u001b[0;34m\u001b[0m\u001b[0m\n\u001b[0;32m----> 9\u001b[0;31m \u001b[0msalary\u001b[0m\u001b[0;34m\u001b[0m\u001b[0m\n\u001b[0m",
      "\u001b[0;31mNameError\u001b[0m: name 'salary' is not defined"
     ]
    }
   ],
   "source": [
    "knows_python = False\n",
    "\n",
    "if knows_python == True:\n",
    "    situation = 'hired'\n",
    "    salary = 10000\n",
    "else:\n",
    "    situation = 'unemployed'\n",
    "\n",
    "salary"
   ]
  },
  {
   "cell_type": "markdown",
   "metadata": {},
   "source": [
    "Perceba que a linha que define o bloco condicional inicia com o operador **if**, seguido de uma expressão, e termina com dois pontos. A linha que define o caso contrário contém apenas **else:**. De um modo geral, o **if** testa se a expressão que o segue é **True** ou **False** e executa o bloco de código associado apenas se o resultado da expressão for **True**. Note que, como o operador **if** verifica se a expressão associada é **True**, o código acima é redundante e equivale ao seguinte teste: (*knows_python ==* **True**) *==* **True**. Em outras palavras, a condição poderia ser definida de forma mais simples da seguinte forma:"
   ]
  },
  {
   "cell_type": "code",
   "execution_count": 1,
   "metadata": {},
   "outputs": [
    {
     "data": {
      "text/plain": [
       "'hired'"
      ]
     },
     "execution_count": 1,
     "metadata": {},
     "output_type": "execute_result"
    }
   ],
   "source": [
    "knows_python = True\n",
    "\n",
    "if knows_python:\n",
    "    situation = 'hired'\n",
    "else:\n",
    "    situation = 'unemployed'\n",
    "\n",
    "situation"
   ]
  },
  {
   "cell_type": "markdown",
   "metadata": {},
   "source": [
    "Ao dispensar a necessidade de escrever o teste de igualdade explicitamente, Python faz com que o código resultante seja escrito de forma próxima à linguagem natural.\n",
    "\n",
    "Como vimos, o código acima testa se o valor de uma variável booleana é verdadeiro ou falso. Mas, curiosamente, Python também permite testar **True** ou **False** para outros tipos de valores, algo que, apesar de não muito intuitivo, se mostra frequentemente útil."
   ]
  },
  {
   "cell_type": "markdown",
   "metadata": {},
   "source": [
    "A expressão associada ao **if** pode ser tão complexa quanto necessário, usando os operadores que vimos na [Seção 1.3](https://tmfilho.github.io/pyestbook/guide/04_oper.html) e chamadas de funções, que veremos na [Seção 1.6](https://tmfilho.github.io/pyestbook/guide/07_func.html).  "
   ]
  }
 ],
 "metadata": {
  "kernelspec": {
   "display_name": "Python 3",
   "language": "python",
   "name": "python3"
  },
  "language_info": {
   "codemirror_mode": {
    "name": "ipython",
    "version": 3
   },
   "file_extension": ".py",
   "mimetype": "text/x-python",
   "name": "python",
   "nbconvert_exporter": "python",
   "pygments_lexer": "ipython3",
   "version": "3.6.5"
  }
 },
 "nbformat": 4,
 "nbformat_minor": 2
}
