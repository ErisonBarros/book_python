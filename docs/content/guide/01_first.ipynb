{
 "cells": [
  {
   "cell_type": "markdown",
   "metadata": {},
   "source": [
    "# Primeiros Passos\n",
    "\n",
    "Este Capítulo tem o objetivo de orientar o(a) leitor(a) sobre a instalação de Python e seus diversos ambientes de trabalho. Python já vem instalado de fábrica na maior parte das distribuições Linux, além de macOS e algumas instalações de Windows (a depender do fabricante). No entanto, essas instalações de Python não necessariamente fornecem a versão mais atualizada da linguagem. Assim, recomenda-se a instalação de Python por meio da distribuição [Anaconda](https://docs.anaconda.com/anaconda/).\n",
    "\n",
    "## Instalando Python com Anaconda\n",
    "\n",
    "Anaconda é um gerenciador de pacotes de ciência de dados para Python (e R). Gratuito e simples de instalar, ele permite instalar milhares de pacotes curados em versões estáveis. A sua instalação inclui mais de 200 pacotes automaticamente, com os outros podendo ser instalados conforme necessidade de uso. Caso o(a) usuário(a) necessite realizar uma instalação mais leve (cerca de 5 GB são necessários para download e instalação), também é possível instalar a versão mínima, chamada de [Miniconda](https://conda.pydata.org/miniconda.html). Para realizar o download, basta seguir para a [página de instalação](https://docs.anaconda.com/anaconda/). Depois é só seguir os passos do instalador.\n",
    "\n",
    "## Jupyter notebooks\n",
    "\n",
    "A instalação básica do Anaconda vem com vários pacotes que iremos cobrir neste livro, incluindo NumPy, pandas e SciPy, para computação matemática e análise de dados; Matplotlib para visualização de dado; scikit-learn, para aprendizagem de máquina. Além disso, Anaconda conta também com a ferramenta Jupyter Notebooks, um ambiente computacional Web, composto de células que podem conter código, texto (usando [Markdown](https://github.com/adam-p/markdown-here/wiki/Markdown-Cheatsheet)), fórmulas e mídias, permitindo um rápido e interativo desenvolvimento exploratório de soluções em diversas linguagens, como Python, R, Julia, Haskell, Javascript, etc (o termo Jupyter vem de Julia, Python e R).\n",
    "\n",
    "Jupyter notebooks são inclusive a base para a construção deste material, permitindo, por exemplo, que a célula de código abaixo seja totalmente interativa, caso o(a) leitor(a) esteja acessando a versão online do livro. Para modificar o código, basta clicar no ícone em formato de lápis que aparece à direita da célula quando o ponteiro do mouse é posicionado sobre ela. Pode-se também clicar no botão \"Interagir\", posicionado no topo da tela. Para testar a(s) modificação(ões), basta clicar em _run_. O resultado da primeira execução pode demorar um pouco."
   ]
  },
  {
   "cell_type": "code",
   "execution_count": 1,
   "metadata": {},
   "outputs": [
    {
     "name": "stdout",
     "output_type": "stream",
     "text": [
      "Hello World!\n"
     ]
    }
   ],
   "source": [
    "print('Hello World!')"
   ]
  },
  {
   "cell_type": "markdown",
   "metadata": {},
   "source": [
    "### Usando Jupyter notebooks\n",
    "\n",
    "Devido a sua característica de interatividade e sua capacidade de misturar vários tipos diferentes de conteúdos, os notebooks são ideais para estudar e praticar Python. Portanto, é interessante aprender a usá-los antes mesmo de começar o estudo da linguagem de programação em si. Para começar, crie uma pasta para os seus notebooks, abra um terminal (ou prompt de comandos no Windows) e faça:\n",
    "\n",
    "```bash\n",
    "cd meusnotebooks\n",
    "jupyter notebooks\n",
    "```\n",
    "O segundo comando irá iniciar um servidor jupyter automaticamente e abrirá uma aba no seu navegador com o conteúdo mostrado na Figura 3.\n"
   ]
  },
  {
   "cell_type": "markdown",
   "metadata": {},
   "source": [
    "<figure>\n",
    "  <img src=\"../images/jupyter-home.png\" alt=\"Tela inicial da ferramenta Jupyter notebooks\"/>\n",
    "  <figcaption>Figura 3: Tela inicial da ferramenta Jupyter notebooks.</figcaption>\n",
    "</figure>"
   ]
  },
  {
   "cell_type": "markdown",
   "metadata": {},
   "source": [
    "Esta tela lista os notebooks que forem salvos na pasta _meusnotebooks_. Além disso, é possível criar novos notebooks, bastando clicar no botão _New_ e escolher a opção _Python 3_ (ou a opção que corresponde à versão de Python que está sendo executada), o que irá abrir outra aba no seu navegador, como mostra a Figura 4."
   ]
  },
  {
   "cell_type": "markdown",
   "metadata": {},
   "source": [
    "<figure>\n",
    "  <img src=\"../images/jupyter-notebook.png\" alt=\"Jupyter notebook recém criado\"/>\n",
    "  <figcaption>Figura 4: Jupyter notebook recém criado.</figcaption>\n",
    "</figure>"
   ]
  },
  {
   "cell_type": "markdown",
   "metadata": {},
   "source": [
    "Para dar um nome ao seu notebook, basta clicar em _Untitled_, no topo da tela. O notebook já é criado com uma célula de código. Usando o menu _Insert_, é possível adicionar novas células acima (_above_) ou abaixo (_below_) da célula selecionada. No menu _Cell_ é possível executar a célula selecionada, o que também pode ser feito por meio do botão _Run_ ou apertando as teclas _shift + Enter_. \n",
    "\n",
    "O menu _Cell_ também permite mudar o tipo da célula selecionada, incluindo células de [Markdown](https://github.com/adam-p/markdown-here/wiki/Markdown-Cheatsheet) e de código. Ao executar células Markdown, seu conteúdo é processado e transformado em texto formatado de acordo com as marcações usadas. Já as células de código podem ter saídas de texto, gráficos ou nenhuma saída. Variáveis inicializadas (mais sobre isso mais à frente) em células executadas podem ser lidas em células posicionadas mais abaixo no notebook."
   ]
  },
  {
   "cell_type": "markdown",
   "metadata": {},
   "source": [
    "## Outros ambientes de desenvolvimento\n",
    "\n",
    "Há muitos outros ambientes de desenvolvimento disponíveis para Python."
   ]
  },
  {
   "cell_type": "markdown",
   "metadata": {},
   "source": [
    "Uma outra vantagem de obter Python via Anaconda é a possibilidade de instalar e gerenciar diversos ambientes de desenvolvimento, com versões diferentes da linguagem e diferentes pacotes instalados, por exemplo uma versão para cada grande projeto desenvolvido, para evitar choques de dependências."
   ]
  }
 ],
 "metadata": {
  "kernelspec": {
   "display_name": "Python 3",
   "language": "python",
   "name": "python3"
  },
  "language_info": {
   "codemirror_mode": {
    "name": "ipython",
    "version": 3
   },
   "file_extension": ".py",
   "mimetype": "text/x-python",
   "name": "python",
   "nbconvert_exporter": "python",
   "pygments_lexer": "ipython3",
   "version": "3.6.5"
  }
 },
 "nbformat": 4,
 "nbformat_minor": 2
}
