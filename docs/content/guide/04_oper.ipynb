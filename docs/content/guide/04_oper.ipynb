{
 "cells": [
  {
   "cell_type": "markdown",
   "metadata": {},
   "source": [
    "# Operadores\n"
   ]
  },
  {
   "cell_type": "markdown",
   "metadata": {},
   "source": [
    "### Operadores lógicos\n",
    "\n",
    "Python oferece três operadores lógicos: **or** (ou), **and** (e) e **not** (não). Os primeiros dois operadores (**or** e **and**) recebem dois operandos e retornam um valor binário **True** (Verdadeiro) ou **False** (Falso). O terceiro operador (**not**) recebe apenas um operando e retorna o valor binário oposto. A tabela verdade abaixo apresenta os valores retornados pelos operadores para diferentes valores dos operandos.\n",
    "\n",
    "| x         | y         | **not** x | x **or** y| x **and** y |\n",
    "| --------- |:---------:| ---------:| ---------:| -----------:|\n",
    "| **True**  | **True**  | **False** | **True**  | **True**    |\n",
    "| **True**  | **False** | **False** | **True**  | **False**   |\n",
    "| **False** | **True**  | **True**  | **True**  | **False**   |\n",
    "| **False** | **False** | **True**  | **False** | **False**   |\n",
    "\n",
    "O operador **or** só retorna **False** se os dois operandos forem falsos, portanto por uma questão de eficiência, Python apenas avalia o segundo operando, se o primeiro for **False**. Por outro lado, o operador **and** só retorna **True** se os dois operandos forem verdadeiros, então Python só avalia o segundo operando se o primeiro for **True**. Por isso, esses operadores são chamados de operadores de curto-circuito e essa característica pode ser usada para otimizar código, colocando operandos menos custosos no lado esquerdo desses operadores.\n"
   ]
  },
  {
   "cell_type": "markdown",
   "metadata": {},
   "source": [
    "### Operadores relacionais\n",
    "\n",
    "O(a) usuário(a) de Python tem oito operadores de comparação (operadores relacionais) a sua disposição, descritos na Tabela abaixo. Os dois últimos operadores são casos especiais de igualdade e diferença para objetos que investigaremos mais à frente no livro. Também veremos mais à frente que objetos de diferentes tipos (exceto números) nunca serão iguais\n",
    "\n",
    "| Operador         | Significado         |\n",
    "| --------- |---------|\n",
    "| <, >  | menor/maior que |\n",
    "| <=, >=  | menor/maior ou igual a |\n",
    "| ==, != | igual/diferente  |\n",
    "| **is**, **is** **not** | igualdade/diferença de objetos |\n",
    "\n",
    "Comparações podem ser encadeadas livremente, o que permite verificar, por exemplo, se o valor de uma variável *y* cai dentro do intervalo *(0, 3]* da seguinte maneira:"
   ]
  },
  {
   "cell_type": "code",
   "execution_count": 2,
   "metadata": {},
   "outputs": [
    {
     "name": "stdout",
     "output_type": "stream",
     "text": [
      "True\n"
     ]
    }
   ],
   "source": [
    "y = 2\n",
    "\n",
    "print(0 < y <= 3)"
   ]
  },
  {
   "cell_type": "markdown",
   "metadata": {},
   "source": [
    "O código acima é equivalente ao código abaixo, que corresponde a uma forma mais comum em outras linguagens de programação. No entanto, no formato encadeado acima, a variável *y* é avaliada apenas uma vez, o que produz um código mais eficiente. Além disso, como essas comparações incluem um **and**, a segunda parte (*y <= 3*) só será avaliada se a primeira (*0 < y*) for **True**."
   ]
  },
  {
   "cell_type": "code",
   "execution_count": 3,
   "metadata": {},
   "outputs": [
    {
     "name": "stdout",
     "output_type": "stream",
     "text": [
      "True\n"
     ]
    }
   ],
   "source": [
    "print(0 < y and y <= 3)"
   ]
  },
  {
   "cell_type": "markdown",
   "metadata": {},
   "source": [
    "## Operadores numéricos"
   ]
  },
  {
   "cell_type": "markdown",
   "metadata": {},
   "source": [
    "### Prioridade de operadores\n",
    "\n",
    "or                        Boolean OR\n",
    "and                       Boolean AND\n",
    "not x                     Boolean NOT\n",
    "in, not in                Membership tests\n",
    "is, is not                Identity tests\n",
    "<, <=, >, >=, <>, !=, ==  Comparisons\n",
    "|                         Bitwise OR\n",
    "^                         Bitwise XOR\n",
    "&                         Bitwise AND\n",
    "<<, >>                    Shifts\n",
    "+, -                      Addition and subtraction\n",
    "*, /, %                   Multiplication, division, remainder\n",
    "+x, -x                    Positive, negative\n",
    "~x                        Bitwise not\n",
    "**                        Exponentiation"
   ]
  },
  {
   "cell_type": "markdown",
   "metadata": {},
   "source": [
    "## Blocos e indentação\n",
    "\n",
    "A principal diferença de Python para outras linguagens, como R, C e Java, é a representação de blocos de código usando níveis de indentação, dispensando o uso de chaves para marcar o início e o fim dos blocos. Essa diferença pode ser vista nos blocos de código abaixo, representando a mesma função para calcular a média aritmética de dois valores. O primeiro código está escrito em R e o segundo contém exatamente a mesma função escrita em Python."
   ]
  },
  {
   "cell_type": "markdown",
   "metadata": {},
   "source": [
    "```R\n",
    "mean <- function(value1, value2) {\n",
    "  result <- (value1 + value2) / 2\n",
    "  return(result)\n",
    "}\n",
    "```"
   ]
  },
  {
   "cell_type": "code",
   "execution_count": 6,
   "metadata": {},
   "outputs": [],
   "source": [
    "def mean(value1, value2):\n",
    "    result = (value1 + value2) / 2\n",
    "    return result"
   ]
  },
  {
   "cell_type": "markdown",
   "metadata": {},
   "source": [
    "O uso de indentação para indicar estrutura tem vários benefícios, incluindo:\n",
    "\n",
    "   1. Reduz a necessidade de padrões de código extra: a indentação sempre será de 4 espaços e a IDE usada para escrever o código cuidará de manter essa consistência;\n",
    "   2. Códigos de diferentes fontes são forçados a seguir o mesmo estilo de indentação;\n",
    "   3. Reduz trabalho, pois não é necessário se preocupar com o padrão das chaves **e** da indentação;\n",
    "   4. Mantém um código mais limpo;\n",
    "   5. O código só executará se a indentação estiver correta, portanto, se o código parece correto, ele está correto;\n",
    "   6. Não há como confundir escopos de blocos de código aninhados."
   ]
  },
  {
   "cell_type": "code",
   "execution_count": null,
   "metadata": {},
   "outputs": [],
   "source": []
  }
 ],
 "metadata": {
  "kernelspec": {
   "display_name": "Python 3",
   "language": "python",
   "name": "python3"
  },
  "language_info": {
   "codemirror_mode": {
    "name": "ipython",
    "version": 3
   },
   "file_extension": ".py",
   "mimetype": "text/x-python",
   "name": "python",
   "nbconvert_exporter": "python",
   "pygments_lexer": "ipython3",
   "version": "3.6.5"
  }
 },
 "nbformat": 4,
 "nbformat_minor": 2
}
