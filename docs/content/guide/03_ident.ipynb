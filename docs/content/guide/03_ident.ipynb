{
 "cells": [
  {
   "cell_type": "markdown",
   "metadata": {},
   "source": [
    "# Nomes e Identificadores\n",
    "\n",
    "Como na maior parte das linguagens, identificadores permitem letras minúsculas e maiúsculas, dígitos e traço baixo ou _underline_ (\\_). Identificadores não possuem limite de tamanho e diferenciam entre minúsculas e maiúsculas (_case sensitive_), ou seja _variavel_ é diferente de _Variavel_. Identificadores especiais costumam começar e terminar com duplos traços baixos, e.g. \\_\\_init\\_\\_. Seguem algumas convenções para nomeação de identificadores:\n",
    "\n",
    "| Identificador        | Convenção           | Exemplo  |\n",
    "|------------- |-------------| -----|\n",
    "| Módulos/pacotes      | caracteres minúsculos | _projetopython_ |\n",
    "| Globais/constantes      | CARACTERES MAIÚSCULOS     |   _CONSTANTE_ |\n",
    "| Classes | Iniciais Maiúsculas      |    NormalDistribution |\n",
    "| Métodos/funções/variáveis | minúsculos\\_separados\\_por\\_underlines      |    _variavel_\\__aleatoria_ |"
   ]
  },
  {
   "cell_type": "code",
   "execution_count": null,
   "metadata": {},
   "outputs": [],
   "source": []
  }
 ],
 "metadata": {
  "kernelspec": {
   "display_name": "Python 3",
   "language": "python",
   "name": "python3"
  },
  "language_info": {
   "codemirror_mode": {
    "name": "ipython",
    "version": 3
   },
   "file_extension": ".py",
   "mimetype": "text/x-python",
   "name": "python",
   "nbconvert_exporter": "python",
   "pygments_lexer": "ipython3",
   "version": "3.6.5"
  }
 },
 "nbformat": 4,
 "nbformat_minor": 2
}
