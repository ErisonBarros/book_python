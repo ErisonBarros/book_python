{
 "cells": [
  {
   "cell_type": "markdown",
   "metadata": {},
   "source": [
    "# Python para Estatísticos\n",
    "\n",
    "<!--<a href=\"https://circleci.com/gh/jupyter/jupyter-book\"><img src=\"https://circleci.com/gh/jupyter/jupyter-book.svg?style=svg\" class=\"left\"></a>\n",
    "<a href=\"https://codecov.io/gh/jupyter/jupyter-book\"><img src=\"https://codecov.io/gh/jupyter/jupyter-book/branch/master/graph/badge.svg\" class=\"left\"></a>\n",
    "<a href=\"https://doi.org/10.5281/zenodo.2799972\"><img src=\"https://zenodo.org/badge/DOI/10.5281/zenodo.2799972.svg\" class=\"left\"></a>\n",
    "<div style=\"clear:both;\"></div>-->\n",
    "\n",
    "Este material foi escrito com o objetivo de introduzir estatísticos e estudantes de Estatística aos conceitos fundamentais da linguagem Python, bem como apresentá-los às ferramentas que mais lhe podem ser úteis, incluindo bibliotecas de computação matemática, visualização de dados, manipulação de bases e bancos de dados, ferramentas de  aprendizagem de máquina, computação paralela, computação em GPU, inferência Bayesiana e criação e consumo de API's Web. \n",
    "\n",
    "Python é uma linguagem de programação interpretada, de alto nível e de propósito geral. Seu criador, Guido van Rossum, enfatizou legibilidade de código e sua abordagem de orientação a objetos permite que projetos de diversos tamanhos sejam desenvolvidos usando código simples, lógico e fácil de entender, devido a sua sintaxe clara. Além da orientação a objetos, Python também oferece suporte a outros paradigmas de programação, como programação estruturada e programação funcional. \n",
    "\n",
    "A filosofia central da linguagem foi resumida no documento [The Zen of Python (PEP 20)](https://www.python.org/dev/peps/pep-0020/), que inclui frases como:\n",
    "\n",
    "* Belo é melhor do que feio.\n",
    "* Explícito é melhor do que implícito.\n",
    "* Simples é melhor do que complexo.\n",
    "* Complexo é melhor do que complicado.\n",
    "* Legibilidade conta.\n",
    "* Se a implementação é difícil de explicar, é uma má ideia.\n",
    "* Se a implementação é fácil de explicar, deve ser uma boa ideia.\n",
    "\n",
    "Python é visualmente mais \"limpa\" do que outras linguagens, além de ser mais intuitiva, pois frequentemente usa palavras da língua inglesa onde outras linguagens usariam pontuações. O nome da linguagem é um tributo ao grupo de comédia britânico Monty Python, o que inspirou os desenvolvedores a fazer com que a linguagem seja divertida de usar. Essa abordagem de desenvolvimento inspirou a criação do neologismo \"pythonico\", que quer dizer que o código é natural e está de acordo com a filosofia minimalita e de ênfase na legibilidade. Por outro lado, códigos difíceis de entender or ler são chamados de não-pythonicos. Usuários e admiradores de Python, sobretudo aqueles considerados mais experientes costumam er chamados de Pythonistas.\n",
    "\n",
    "\n"
   ]
  },
  {
   "cell_type": "markdown",
   "metadata": {},
   "source": [
    "## O Crescimento da linguagem\n",
    "\n",
    "Bla"
   ]
  },
  {
   "cell_type": "code",
   "execution_count": null,
   "metadata": {},
   "outputs": [],
   "source": []
  }
 ],
 "metadata": {
  "kernelspec": {
   "display_name": "Python 3",
   "language": "python",
   "name": "python3"
  },
  "language_info": {
   "codemirror_mode": {
    "name": "ipython",
    "version": 3
   },
   "file_extension": ".py",
   "mimetype": "text/x-python",
   "name": "python",
   "nbconvert_exporter": "python",
   "pygments_lexer": "ipython3",
   "version": "3.6.5"
  },
  "widgets": {
   "application/vnd.jupyter.widget-state+json": {
    "state": {},
    "version_major": 2,
    "version_minor": 0
   }
  }
 },
 "nbformat": 4,
 "nbformat_minor": 4
}
