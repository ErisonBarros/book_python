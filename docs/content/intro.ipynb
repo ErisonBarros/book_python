{
 "cells": [
  {
   "cell_type": "markdown",
   "metadata": {},
   "source": [
    "# Python para Estatísticos\n",
    "\n",
    "<!--<a href=\"https://circleci.com/gh/jupyter/jupyter-book\"><img src=\"https://circleci.com/gh/jupyter/jupyter-book.svg?style=svg\" class=\"left\"></a>\n",
    "<a href=\"https://codecov.io/gh/jupyter/jupyter-book\"><img src=\"https://codecov.io/gh/jupyter/jupyter-book/branch/master/graph/badge.svg\" class=\"left\"></a>\n",
    "<a href=\"https://doi.org/10.5281/zenodo.2799972\"><img src=\"https://zenodo.org/badge/DOI/10.5281/zenodo.2799972.svg\" class=\"left\"></a>\n",
    "<div style=\"clear:both;\"></div>-->\n",
    "\n",
    "Este material foi escrito com o objetivo de introduzir estatísticos e estudantes de Estatística aos conceitos fundamentais da linguagem Python, bem como apresentá-los às ferramentas que mais lhe podem ser úteis, incluindo bibliotecas de computação matemática, visualização de dados, manipulação de bases e bancos de dados, ferramentas de  aprendizagem de máquina, computação paralela, computação em GPU, inferência Bayesiana e criação e consumo de API's Web. \n",
    "\n",
    "Python é uma linguagem de programação interpretada, de alto nível e de propósito geral. Seu criador, Guido van Rossum, enfatizou legibilidade de código e sua abordagem de orientação a objetos permite que projetos de diversos tamanhos sejam desenvolvidos usando código simples, lógico e fácil de entender, devido a sua sintaxe clara. Além da orientação a objetos, Python também oferece suporte a outros paradigmas de programação, como programação estruturada e programação funcional. \n",
    "\n",
    "A filosofia central da linguagem foi resumida no documento [The Zen of Python (PEP 20)](https://www.python.org/dev/peps/pep-0020/) {% cite petersZen2004 %}, que inclui frases como:\n",
    "\n",
    "* Belo é melhor do que feio.\n",
    "* Explícito é melhor do que implícito.\n",
    "* Simples é melhor do que complexo.\n",
    "* Complexo é melhor do que complicado.\n",
    "* Legibilidade conta.\n",
    "* Se a implementação é difícil de explicar, é uma má ideia.\n",
    "* Se a implementação é fácil de explicar, deve ser uma boa ideia.\n",
    "\n",
    "Python é visualmente mais \"limpa\" do que outras linguagens, além de ser mais intuitiva, pois frequentemente usa palavras da língua inglesa onde outras linguagens usariam pontuações. O nome da linguagem é um tributo ao grupo de comédia britânico Monty Python, o que inspirou os desenvolvedores a fazer com que a linguagem seja divertida de usar. Essa abordagem de desenvolvimento inspirou a criação do neologismo \"pythonico\", que quer dizer que o código é natural e está de acordo com a filosofia minimalita e de ênfase na legibilidade. Por outro lado, códigos difíceis de entender or ler são chamados de não-pythonicos. Usuários e admiradores de Python, sobretudo aqueles considerados mais experientes costumam er chamados de Pythonistas.\n",
    "\n",
    "\n"
   ]
  },
  {
   "cell_type": "markdown",
   "metadata": {},
   "source": [
    "## A evolução do interesse em Python\n",
    "\n",
    "Em 2017, o Stack Overflow, website de perguntas e respostas destinado a desenvolvedores, publicou um estudo sobre o rápido crescimento no interesse pela linguagem Python {% cite robinsonBlog2017 %}. O estudo considerou apenas o interesse de usuários de países de alta renda e naturalmente avaliou apenas resultados até a sua publicação. A Figura 1, obtida por meio da ferramenta [Stack Overflow Trends](https://insights.stackoverflow.com/trends), apresenta as curvas para as mesmas linguagens, considerando usuários de todo o mundo (o que muda as curvas em relação ao estudo citado) e resultados até o meio de 2019. Até o meio de 2012, Python era a sexta linguagem menos buscada das 7 analisadas, tornando-se a linguagem de maior interesse apenas 6 anos depois, no meio de 2018.\n"
   ]
  },
  {
   "cell_type": "markdown",
   "metadata": {},
   "source": [
    "<figure>\n",
    "  <img src=\"images/python-growth.svg\" alt=\"Crescimento da porcentagem de perguntas de várias linguagens de programação no Stack Overflow\"/>\n",
    "  <figcaption>Figura 1: Crescimento da porcentagem de perguntas de várias linguagens de programação no Stack Overflow.</figcaption>\n",
    "</figure>"
   ]
  },
  {
   "cell_type": "code",
   "execution_count": 2,
   "metadata": {},
   "outputs": [
    {
     "data": {
      "text/html": [
       "<div>\n",
       "<style scoped>\n",
       "    .dataframe tbody tr th:only-of-type {\n",
       "        vertical-align: middle;\n",
       "    }\n",
       "\n",
       "    .dataframe tbody tr th {\n",
       "        vertical-align: top;\n",
       "    }\n",
       "\n",
       "    .dataframe thead th {\n",
       "        text-align: right;\n",
       "    }\n",
       "</style>\n",
       "<table border=\"1\" class=\"dataframe\">\n",
       "  <thead>\n",
       "    <tr style=\"text-align: right;\">\n",
       "      <th></th>\n",
       "      <th>Python: (Worldwide)</th>\n",
       "      <th>R: (Worldwide)</th>\n",
       "      <th>Machine learning: (Worldwide)</th>\n",
       "      <th>Data science: (Worldwide)</th>\n",
       "    </tr>\n",
       "  </thead>\n",
       "  <tbody>\n",
       "    <tr>\n",
       "      <th>Python: (Worldwide)</th>\n",
       "      <td>1.000000</td>\n",
       "      <td>0.369220</td>\n",
       "      <td>0.964809</td>\n",
       "      <td>0.967090</td>\n",
       "    </tr>\n",
       "    <tr>\n",
       "      <th>R: (Worldwide)</th>\n",
       "      <td>0.369220</td>\n",
       "      <td>1.000000</td>\n",
       "      <td>0.287584</td>\n",
       "      <td>0.254663</td>\n",
       "    </tr>\n",
       "    <tr>\n",
       "      <th>Machine learning: (Worldwide)</th>\n",
       "      <td>0.964809</td>\n",
       "      <td>0.287584</td>\n",
       "      <td>1.000000</td>\n",
       "      <td>0.961119</td>\n",
       "    </tr>\n",
       "    <tr>\n",
       "      <th>Data science: (Worldwide)</th>\n",
       "      <td>0.967090</td>\n",
       "      <td>0.254663</td>\n",
       "      <td>0.961119</td>\n",
       "      <td>1.000000</td>\n",
       "    </tr>\n",
       "  </tbody>\n",
       "</table>\n",
       "</div>"
      ],
      "text/plain": [
       "                               Python: (Worldwide)  R: (Worldwide)  \\\n",
       "Python: (Worldwide)                       1.000000        0.369220   \n",
       "R: (Worldwide)                            0.369220        1.000000   \n",
       "Machine learning: (Worldwide)             0.964809        0.287584   \n",
       "Data science: (Worldwide)                 0.967090        0.254663   \n",
       "\n",
       "                               Machine learning: (Worldwide)  \\\n",
       "Python: (Worldwide)                                 0.964809   \n",
       "R: (Worldwide)                                      0.287584   \n",
       "Machine learning: (Worldwide)                       1.000000   \n",
       "Data science: (Worldwide)                           0.961119   \n",
       "\n",
       "                               Data science: (Worldwide)  \n",
       "Python: (Worldwide)                             0.967090  \n",
       "R: (Worldwide)                                  0.254663  \n",
       "Machine learning: (Worldwide)                   0.961119  \n",
       "Data science: (Worldwide)                       1.000000  "
      ]
     },
     "execution_count": 2,
     "metadata": {},
     "output_type": "execute_result"
    }
   ],
   "source": [
    "import pandas as pd\n",
    "trends = pd.read_csv('data/google-trends-timeline.csv', index_col=0)\n",
    "\n",
    "trends.corr(method='spearman')"
   ]
  },
  {
   "cell_type": "markdown",
   "metadata": {},
   "source": [
    "## Referências\n",
    "\n",
    "{% bibliography --cited %}"
   ]
  },
  {
   "cell_type": "code",
   "execution_count": null,
   "metadata": {},
   "outputs": [],
   "source": []
  }
 ],
 "metadata": {
  "kernelspec": {
   "display_name": "Python 3",
   "language": "python",
   "name": "python3"
  },
  "language_info": {
   "codemirror_mode": {
    "name": "ipython",
    "version": 3
   },
   "file_extension": ".py",
   "mimetype": "text/x-python",
   "name": "python",
   "nbconvert_exporter": "python",
   "pygments_lexer": "ipython3",
   "version": "3.6.5"
  },
  "widgets": {
   "application/vnd.jupyter.widget-state+json": {
    "state": {},
    "version_major": 2,
    "version_minor": 0
   }
  }
 },
 "nbformat": 4,
 "nbformat_minor": 4
}
