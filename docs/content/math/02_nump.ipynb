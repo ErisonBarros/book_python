{
 "cells": [
  {
   "cell_type": "markdown",
   "metadata": {},
   "source": [
    "# NumPy\n",
    "\n",
    "NumPy é um pacote fundamental para computação científica em Python, sendo usado como base para praticamente todos os outros. Suas capacidades incluem uma poderosa classe *array*, que pode representar vetores e matrizes, sofisticadas funções para manipulação de *arrays*, ferramentas para integração de códigos em C/C++ e Fortran, além de funções de álgebra linear e de geração de números aleatórios. Os *arrays* de NumPy também podem ser usados para armazenar dados de tipos genéricos, permitindo fácil integração com diferentes tipos de bases e bancos de dados. A documentação completa para todas as versões de NumPy pode ser encontrada em [numpy.org/doc](https://numpy.org/doc).\n",
    "\n",
    "## A classe *array*\n",
    "\n",
    "A classe *array* é o principal componente de NumPy e representa uma lista homogênea multidimensional, na forma de uma tabela de elementos (normalmente números), todos do mesmo tipo, indexada por tuplas de inteiros positivos. Um dimensão de um *array* é chamada de eixo (*axis*). Abaixo, temos dois exemplos de *arrays* (note sua criação por meio de listas):"
   ]
  },
  {
   "cell_type": "code",
   "execution_count": 3,
   "metadata": {},
   "outputs": [
    {
     "name": "stdout",
     "output_type": "stream",
     "text": [
      "3 int64\n",
      "(2, 3) 2 float64\n",
      "[[1. 0. 1.]\n",
      " [0. 1. 2.]]\n"
     ]
    }
   ],
   "source": [
    "import numpy as np\n",
    "\n",
    "a = np.array([1, 2, 1])  # Uma dimensão, 3 elementos, tipo inteiro\n",
    "b = np.array([\n",
    "    [1., 0., 1.], \n",
    "    [0., 1., 2.]\n",
    "])  # Duas dimensões, a primeira com tamanho 2 e a segunda com tamanho 3, tipo ponto flutuante\n",
    "\n",
    "print(len(a), a.dtype)\n",
    "print(b.shape, len(b), b.dtype)\n",
    "print(b)"
   ]
  },
  {
   "cell_type": "markdown",
   "metadata": {},
   "source": [
    "A biblioteca padrão de Python também tem uma classe *array.array*, mas ela serve apenas pra casos unidimensionais e oferece menos funcionalidades. Os atributos mais importantes do *array* de numpy incluem:\n",
    "\n",
    "   * array.ndim: o número de eixos do *array*\n",
    "   * array.shape: as dimensões do *array* na forma de uma tupla indicando o tamanho de cada dimensão; matriz $n \\times m$ possui shape $(n, m)$\n",
    "   * array.size: o número total de elementos no *array*\n",
    "   * array.dtype: o tipo dos elementos do *array*\n",
    "\n",
    "### Criando *arrays*\n",
    "\n",
    "A criação de um *array* pode ser feita usando listas ou tuplas, com o tipo dos dados sendo deduzido através dos tpos dos elementos da sequência. Uma lista de listas resultará em um *array* bidimensional, uma lista de listas de listas dará um *array* tridimensional e assim por diante. É possível especificar o tipo do *array* na hora da criação:"
   ]
  },
  {
   "cell_type": "code",
   "execution_count": 4,
   "metadata": {},
   "outputs": [
    {
     "name": "stdout",
     "output_type": "stream",
     "text": [
      "[[1.+0.j 0.+0.j 1.+0.j]\n",
      " [0.+0.j 1.+0.j 2.+0.j]]\n"
     ]
    }
   ],
   "source": [
    "b = np.array(\n",
    "    [\n",
    "        [1., 0., 1.], \n",
    "        [0., 1., 2.]\n",
    "    ],\n",
    "    dtype=complex\n",
    ")\n",
    "print(b)"
   ]
  },
  {
   "cell_type": "markdown",
   "metadata": {},
   "source": [
    "Frequentemente é necessario criar *arrays* com um tamanho definido e valores iniciais que serão posteriormente modificados. Para isso, NumPy fornece diversas funções, incluindo a função *zeros*, que cria um *array* preenchido com zeros; *ones*, que cria um *array* preenchido com uns; *empty*, que cria um *array* cujo conteúdo inicial é aleatório e depende do estado da memória; e *eye*, que cria uma matriz identidade."
   ]
  },
  {
   "cell_type": "code",
   "execution_count": 5,
   "metadata": {},
   "outputs": [
    {
     "name": "stdout",
     "output_type": "stream",
     "text": [
      "[[0. 0. 0. 0.]\n",
      " [0. 0. 0. 0.]\n",
      " [0. 0. 0. 0.]]\n",
      "\n",
      "[[1. 1. 1. 1.]\n",
      " [1. 1. 1. 1.]\n",
      " [1. 1. 1. 1.]]\n",
      "\n",
      "[[1. 1. 1. 1.]\n",
      " [1. 1. 1. 1.]\n",
      " [1. 1. 1. 1.]]\n",
      "\n",
      "[[1 0 0]\n",
      " [0 1 0]\n",
      " [0 0 1]]\n"
     ]
    }
   ],
   "source": [
    "print(np.zeros((3, 4)))  # Note que as dimensões são passadas como uma tupla\n",
    "print()\n",
    "print(np.ones((3, 4)))\n",
    "print()\n",
    "print(np.empty((3, 4)))  # Saída pode variar\n",
    "print()\n",
    "print(np.eye(3, dtype=np.int32))  # Basta passar uma dimensão, pois a matriz será quadrada"
   ]
  },
  {
   "cell_type": "markdown",
   "metadata": {},
   "source": [
    "Para criar sequências de números, pode-se usar a função *arange*, que é análoga à função *range*, mas retorna *arrays* e aceita criar intervalos de pontos flutuantes."
   ]
  },
  {
   "cell_type": "code",
   "execution_count": 6,
   "metadata": {},
   "outputs": [
    {
     "name": "stdout",
     "output_type": "stream",
     "text": [
      "[ 5 10 15]\n",
      "\n",
      "[0.  0.4 0.8 1.2 1.6]\n"
     ]
    }
   ],
   "source": [
    "print(np.arange(5, 20, 5))\n",
    "print()\n",
    "print(np.arange(0, 2, 0.4))"
   ]
  },
  {
   "cell_type": "markdown",
   "metadata": {},
   "source": [
    "Devido a possíveis problemas de arredondamento, não é sempre possível saber quantos elementos serão gerados pela função *arange* ao receber pontos flutuantes como parâmetros. Nesses casos, é melhor usar a função *linspace*, que recebe como argumentos o início, o fim (inclusivo) e o número de valores desejados no intervalo."
   ]
  },
  {
   "cell_type": "code",
   "execution_count": 7,
   "metadata": {},
   "outputs": [
    {
     "name": "stdout",
     "output_type": "stream",
     "text": [
      "[0.    0.125 0.25  0.375 0.5   0.625 0.75  0.875 1.   ]\n"
     ]
    }
   ],
   "source": [
    "print(np.linspace(0, 1, 9))  # 9 números começando em 0 e terminando em 1"
   ]
  },
  {
   "cell_type": "markdown",
   "metadata": {},
   "source": [
    "A função *linspace* é útil para avaliar funções em muitos pontos."
   ]
  },
  {
   "cell_type": "code",
   "execution_count": 8,
   "metadata": {},
   "outputs": [
    {
     "data": {
      "text/plain": [
       "<Figure size 640x480 with 1 Axes>"
      ]
     },
     "metadata": {},
     "output_type": "display_data"
    }
   ],
   "source": [
    "import matplotlib.pyplot as plt\n",
    "\n",
    "x = np.linspace(0, 2 * np.pi, 100)\n",
    "f = np.sin(x)\n",
    "\n",
    "plt.plot(x, f)\n",
    "plt.show()"
   ]
  },
  {
   "cell_type": "markdown",
   "metadata": {},
   "source": [
    "### Operações básicas\n",
    "\n",
    "Operações aritméticas com *arrays* sempre são aplicadas elemento-a-elemento, criando um novo *array* como resultado:"
   ]
  },
  {
   "cell_type": "code",
   "execution_count": 9,
   "metadata": {},
   "outputs": [
    {
     "name": "stdout",
     "output_type": "stream",
     "text": [
      "[10 20 30 40]\n",
      "[0 1 2 3]\n",
      "\n",
      "[10 19 28 37]\n",
      "\n",
      "[0 1 4 9]\n",
      "\n",
      "[ True  True False False]\n",
      "\n",
      "[  0  20  60 120]\n"
     ]
    }
   ],
   "source": [
    "a = np.array([10, 20, 30, 40])\n",
    "print(a)\n",
    "b = np.arange(4)\n",
    "print(b)\n",
    "print()\n",
    "\n",
    "c = a - b\n",
    "print(c)\n",
    "print()\n",
    "\n",
    "print(b ** 2)\n",
    "print()\n",
    "\n",
    "print(a < 25)\n",
    "print()\n",
    "\n",
    "print(a * b)"
   ]
  },
  {
   "cell_type": "markdown",
   "metadata": {},
   "source": [
    "O operador '\\*' multiplica os *arrays* através dos elementos. Para realizar a multiplicação de matrizes, pode-se usar o operador '@', a função *dot* do NumPy, ou o método *dot* do *array*:"
   ]
  },
  {
   "cell_type": "code",
   "execution_count": 10,
   "metadata": {},
   "outputs": [
    {
     "name": "stdout",
     "output_type": "stream",
     "text": [
      "[[2 2]\n",
      " [0 2]]\n",
      "[[2 2]\n",
      " [0 2]]\n",
      "[[2 2]\n",
      " [0 2]]\n"
     ]
    }
   ],
   "source": [
    "A = np.array(\n",
    "    [\n",
    "        [1, 1],\n",
    "        [0, 1]\n",
    "    ]\n",
    ")\n",
    "\n",
    "B = np.array(\n",
    "    [\n",
    "        [2, 0],\n",
    "        [0, 2]\n",
    "    ]\n",
    ")\n",
    "\n",
    "print(A @ B)\n",
    "print(np.dot(A, B))\n",
    "print(A.dot(B))"
   ]
  },
  {
   "cell_type": "markdown",
   "metadata": {},
   "source": [
    "Algumas operações, como as de atribuição aritmética \"+=\" e \"\\*=\", modificam o *array* diretamente, ao invés de criar outro com o resultado."
   ]
  },
  {
   "cell_type": "code",
   "execution_count": 11,
   "metadata": {},
   "outputs": [
    {
     "name": "stdout",
     "output_type": "stream",
     "text": [
      "[[2 2]\n",
      " [1 2]]\n"
     ]
    }
   ],
   "source": [
    "A = np.array(\n",
    "    [\n",
    "        [1, 1],\n",
    "        [0, 1]\n",
    "    ]\n",
    ")\n",
    "\n",
    "A += 1\n",
    "\n",
    "print(A)"
   ]
  },
  {
   "cell_type": "markdown",
   "metadata": {},
   "source": [
    "Operações com *arrays* de tipos diferentes resultam em um *array* do tipo mais geral ou preciso (*upcasting*). Exemplo:"
   ]
  },
  {
   "cell_type": "code",
   "execution_count": 12,
   "metadata": {},
   "outputs": [
    {
     "name": "stdout",
     "output_type": "stream",
     "text": [
      "float64\n"
     ]
    }
   ],
   "source": [
    "a = np.ones(3, dtype=int)\n",
    "b = np.ones(3, dtype=float)\n",
    "\n",
    "print((a + b).dtype)"
   ]
  },
  {
   "cell_type": "markdown",
   "metadata": {},
   "source": [
    "Muitas operações são computadas como métodos da classe *array*, por exemplo a soma de todos os elementos, a média ou o desvio-padrão:"
   ]
  },
  {
   "cell_type": "code",
   "execution_count": 13,
   "metadata": {},
   "outputs": [
    {
     "name": "stdout",
     "output_type": "stream",
     "text": [
      "[[0.98568836 0.80077108 0.1462651 ]\n",
      " [0.06303428 0.99853742 0.53075369]\n",
      " [0.255289   0.16000957 0.91127901]\n",
      " [0.84189027 0.06056232 0.62080762]\n",
      " [0.9433355  0.26335913 0.56801377]]\n",
      "Soma: 8.149596125661022, Média: 0.5433064083774014, Desvio-padrão: 0.3454624877515235\n"
     ]
    }
   ],
   "source": [
    "a = np.random.random((5, 3))\n",
    "print(a)\n",
    "print(\n",
    "    'Soma: {}, Média: {}, Desvio-padrão: {}'.format(\n",
    "        a.sum(), a.mean(), a.std()\n",
    "    )\n",
    ")"
   ]
  },
  {
   "cell_type": "markdown",
   "metadata": {},
   "source": [
    "Por padrão, essas operações são computadas sobre todos os elementos do *array*, independente das suas dimensões. No entanto, é possível especificar a dimensão desejada, usando o parâmetro *axis*, como mostra o código abaixo:"
   ]
  },
  {
   "cell_type": "code",
   "execution_count": 14,
   "metadata": {},
   "outputs": [
    {
     "name": "stdout",
     "output_type": "stream",
     "text": [
      "[3.08923741 2.28323953 2.77711919]\n",
      "[0.64424151 0.53077513 0.44219253 0.50775341 0.59156947]\n",
      "[[0.98568836 0.80077108 0.1462651 ]\n",
      " [1.04872264 1.7993085  0.67701879]\n",
      " [1.30401164 1.95931807 1.58829779]\n",
      " [2.14590191 2.01988039 2.20910542]\n",
      " [3.08923741 2.28323953 2.77711919]]\n"
     ]
    }
   ],
   "source": [
    "print(a.sum(axis=0)) # soma de cada coluna\n",
    "print(a.mean(axis=1))  # média de cada linha  \n",
    "print(a.cumsum(axis=0))  # soma acumulada de cada coluna"
   ]
  },
  {
   "cell_type": "markdown",
   "metadata": {},
   "source": [
    "### Indexando e iterando sobre elementos\n",
    "\n",
    "*Arrays* unidimensionais podem ser indexados, fatiados e iterados exatamente como listas e outras coleções."
   ]
  },
  {
   "cell_type": "code",
   "execution_count": 16,
   "metadata": {},
   "outputs": [
    {
     "name": "stdout",
     "output_type": "stream",
     "text": [
      "[ 0  1  4  9 16 25 36 49]\n",
      "\n",
      "4\n",
      "\n",
      "[ 4  9 16]\n",
      "\n",
      "[-1000     1 -1000     9    16    25    36    49]\n",
      "\n",
      "[   49    36    25    16     9 -1000     1 -1000]\n",
      "\n",
      "-2000\n",
      "2\n",
      "-2000\n",
      "18\n",
      "32\n",
      "50\n",
      "72\n",
      "98\n"
     ]
    }
   ],
   "source": [
    "a = np.arange(8) ** 2\n",
    "print(a)\n",
    "print()\n",
    "\n",
    "print(a[2])\n",
    "print()\n",
    "\n",
    "print(a[2:5])\n",
    "print()\n",
    "\n",
    "a[:4:2] = -1000\n",
    "print(a)\n",
    "print()\n",
    "\n",
    "print(a[ : :-1])\n",
    "print()\n",
    "\n",
    "for i in a:\n",
    "    print(i * 2)"
   ]
  },
  {
   "cell_type": "markdown",
   "metadata": {},
   "source": [
    "*Arrays* multidimensionais podem receber um índice ou fatia por eixo, informados em uma tupla. Por exemplo:"
   ]
  },
  {
   "cell_type": "code",
   "execution_count": 18,
   "metadata": {},
   "outputs": [
    {
     "name": "stdout",
     "output_type": "stream",
     "text": [
      "[[0.41423251 0.3556371  0.42781765 0.7554641 ]\n",
      " [0.5707557  0.77237167 0.86258203 0.51908006]\n",
      " [0.71319899 0.20102344 0.99802802 0.6255533 ]\n",
      " [0.37952529 0.97534884 0.15708233 0.85141563]\n",
      " [0.97825692 0.04680751 0.89085038 0.57704229]]\n",
      "\n",
      "0.6255533043403108\n",
      "\n",
      "[0.3556371  0.77237167 0.20102344 0.97534884 0.04680751]\n",
      "\n",
      "[0.3556371  0.77237167 0.20102344 0.97534884]\n",
      "\n",
      "[[0.5707557  0.77237167 0.86258203 0.51908006]\n",
      " [0.71319899 0.20102344 0.99802802 0.6255533 ]]\n"
     ]
    }
   ],
   "source": [
    "b = np.random.random((5, 4))\n",
    "print(b)\n",
    "print()\n",
    "\n",
    "print(b[2, 3])  # Elemento na terceira linha e quarta coluna\n",
    "print()\n",
    "\n",
    "print(b[:, 1])  # A segunda coluna inteira\n",
    "print()\n",
    "\n",
    "print(b[:4, 1])  # Do primeiro ao quarto elemento da segunda coluna      \n",
    "print()\n",
    "\n",
    "print(b[1:3, :])  # Todas as colunas da segunda à terceira linha              "
   ]
  },
  {
   "cell_type": "markdown",
   "metadata": {},
   "source": [
    "Quando os índices forem fornecidos em uma tupla menor do que o número de eixos, os índices que não forem fornecidos são considerados fatias completas, i.e. \":\". Os índices faltantes também podem ser representados por reticências. Exemplo:"
   ]
  },
  {
   "cell_type": "code",
   "execution_count": 21,
   "metadata": {},
   "outputs": [
    {
     "name": "stdout",
     "output_type": "stream",
     "text": [
      "[0.97825692 0.04680751 0.89085038 0.57704229]\n",
      "[0.97825692 0.04680751 0.89085038 0.57704229]\n",
      "[0.97825692 0.04680751 0.89085038 0.57704229]\n"
     ]
    }
   ],
   "source": [
    "print(b[-1])\n",
    "print(b[-1, :])\n",
    "print(b[-1, ...])"
   ]
  },
  {
   "cell_type": "markdown",
   "metadata": {},
   "source": [
    "Iterações sobre *arrays* multidimensionais são feitas ao longo do primeiro eixo:"
   ]
  },
  {
   "cell_type": "code",
   "execution_count": 28,
   "metadata": {},
   "outputs": [
    {
     "name": "stdout",
     "output_type": "stream",
     "text": [
      "[0.41423251 0.3556371  0.42781765 0.7554641 ]\n",
      "[0.5707557  0.77237167 0.86258203 0.51908006]\n",
      "[0.71319899 0.20102344 0.99802802 0.6255533 ]\n",
      "[0.37952529 0.97534884 0.15708233 0.85141563]\n",
      "[0.97825692 0.04680751 0.89085038 0.57704229]\n"
     ]
    }
   ],
   "source": [
    "for row in b:\n",
    "    print(row)"
   ]
  }
 ],
 "metadata": {
  "kernelspec": {
   "display_name": "Python 3",
   "language": "python",
   "name": "python3"
  },
  "language_info": {
   "codemirror_mode": {
    "name": "ipython",
    "version": 3
   },
   "file_extension": ".py",
   "mimetype": "text/x-python",
   "name": "python",
   "nbconvert_exporter": "python",
   "pygments_lexer": "ipython3",
   "version": "3.6.5"
  }
 },
 "nbformat": 4,
 "nbformat_minor": 2
}
